{
 "cells": [
  {
   "cell_type": "code",
   "execution_count": 1,
   "metadata": {
    "collapsed": false
   },
   "outputs": [
    {
     "name": "stderr",
     "output_type": "stream",
     "text": [
      "Loading required package: lubridate\n",
      "\n",
      "Attaching package: ‘lubridate’\n",
      "\n",
      "The following object is masked from ‘package:base’:\n",
      "\n",
      "    date\n",
      "\n",
      "Loading required package: forecast\n",
      "also installing the dependencies ‘quadprog’, ‘tseries’, ‘fracdiff’, ‘lmtest’, ‘timeDate’, ‘RcppArmadillo’\n",
      "\n",
      "Updating HTML index of packages in '.Library'\n",
      "Making 'packages.html' ... done\n"
     ]
    }
   ],
   "source": [
    "options(warn=-1)\n",
    "\n",
    "# import required library\n",
    "if (!require(lubridate)) {\n",
    "    install.packages('lubridate')\n",
    "}\n",
    "if (!require(forecast)) {\n",
    "    install.packages('forecast')\n",
    "}\n",
    "\n",
    "library(lubridate)  # convert date information\n",
    "library(forecast)  # make forecast"
   ]
  },
  {
   "cell_type": "markdown",
   "metadata": {},
   "source": [
    "# Data Processing"
   ]
  },
  {
   "cell_type": "code",
   "execution_count": 2,
   "metadata": {
    "collapsed": true
   },
   "outputs": [],
   "source": [
    "# load the data\n",
    "train = read.csv('./train.csv')\n",
    "test = read.csv('./test.csv')"
   ]
  },
  {
   "cell_type": "code",
   "execution_count": 7,
   "metadata": {
    "collapsed": false,
    "scrolled": false
   },
   "outputs": [],
   "source": [
    "# transform the date\n",
    "train$Date = as.Date(train$Date, '%Y-%m-%d')\n",
    "test$Date = as.Date(test$Date, '%Y-%m-%d')\n",
    "\n",
    "# get the year and month information\n",
    "train$year = year(train$Date)\n",
    "test$year = year(test$Date)\n",
    "\n",
    "train$month = month(train$Date)\n",
    "test$month = month(test$Date)\n",
    "\n",
    "# get week information\n",
    "train.week = train$Date\n",
    "train.week = train.week - train.week[1]  # date is now 0, 7, 14, ...\n",
    "train.week = train.week / 7 + 5  # make 2010-02-05 as '5'\n",
    "train.week = as.numeric(train.week) %% 52  ## 52 weeks in a year\n",
    "train$week = train.week\n",
    "\n",
    "test.week = test$Date\n",
    "test.week = test.week - test.week[1]\n",
    "test.week = test.week / 7 + 9 # make 2011-03-04 as '9'.\n",
    "test.week = as.numeric(test.week) %% 52\n",
    "test$week = test.week"
   ]
  },
  {
   "cell_type": "code",
   "execution_count": 8,
   "metadata": {
    "collapsed": false
   },
   "outputs": [
    {
     "data": {
      "text/html": [
       "<table>\n",
       "<thead><tr><th scope=col>Store</th><th scope=col>Dept</th><th scope=col>Date</th><th scope=col>Weekly_Sales</th><th scope=col>IsHoliday</th><th scope=col>year</th><th scope=col>month</th><th scope=col>week</th></tr></thead>\n",
       "<tbody>\n",
       "\t<tr><td>1         </td><td>1         </td><td>2010-02-05</td><td>24924.50  </td><td>FALSE     </td><td>2010      </td><td>2         </td><td> 5        </td></tr>\n",
       "\t<tr><td>1         </td><td>1         </td><td>2010-02-12</td><td>46039.49  </td><td> TRUE     </td><td>2010      </td><td>2         </td><td> 6        </td></tr>\n",
       "\t<tr><td>1         </td><td>1         </td><td>2010-02-19</td><td>41595.55  </td><td>FALSE     </td><td>2010      </td><td>2         </td><td> 7        </td></tr>\n",
       "\t<tr><td>1         </td><td>1         </td><td>2010-02-26</td><td>19403.54  </td><td>FALSE     </td><td>2010      </td><td>2         </td><td> 8        </td></tr>\n",
       "\t<tr><td>1         </td><td>1         </td><td>2010-03-05</td><td>21827.90  </td><td>FALSE     </td><td>2010      </td><td>3         </td><td> 9        </td></tr>\n",
       "\t<tr><td>1         </td><td>1         </td><td>2010-03-12</td><td>21043.39  </td><td>FALSE     </td><td>2010      </td><td>3         </td><td>10        </td></tr>\n",
       "</tbody>\n",
       "</table>\n"
      ],
      "text/latex": [
       "\\begin{tabular}{r|llllllll}\n",
       " Store & Dept & Date & Weekly\\_Sales & IsHoliday & year & month & week\\\\\n",
       "\\hline\n",
       "\t 1          & 1          & 2010-02-05 & 24924.50   & FALSE      & 2010       & 2          &  5        \\\\\n",
       "\t 1          & 1          & 2010-02-12 & 46039.49   &  TRUE      & 2010       & 2          &  6        \\\\\n",
       "\t 1          & 1          & 2010-02-19 & 41595.55   & FALSE      & 2010       & 2          &  7        \\\\\n",
       "\t 1          & 1          & 2010-02-26 & 19403.54   & FALSE      & 2010       & 2          &  8        \\\\\n",
       "\t 1          & 1          & 2010-03-05 & 21827.90   & FALSE      & 2010       & 3          &  9        \\\\\n",
       "\t 1          & 1          & 2010-03-12 & 21043.39   & FALSE      & 2010       & 3          & 10        \\\\\n",
       "\\end{tabular}\n"
      ],
      "text/markdown": [
       "\n",
       "Store | Dept | Date | Weekly_Sales | IsHoliday | year | month | week | \n",
       "|---|---|---|---|---|---|\n",
       "| 1          | 1          | 2010-02-05 | 24924.50   | FALSE      | 2010       | 2          |  5         | \n",
       "| 1          | 1          | 2010-02-12 | 46039.49   |  TRUE      | 2010       | 2          |  6         | \n",
       "| 1          | 1          | 2010-02-19 | 41595.55   | FALSE      | 2010       | 2          |  7         | \n",
       "| 1          | 1          | 2010-02-26 | 19403.54   | FALSE      | 2010       | 2          |  8         | \n",
       "| 1          | 1          | 2010-03-05 | 21827.90   | FALSE      | 2010       | 3          |  9         | \n",
       "| 1          | 1          | 2010-03-12 | 21043.39   | FALSE      | 2010       | 3          | 10         | \n",
       "\n",
       "\n"
      ],
      "text/plain": [
       "  Store Dept Date       Weekly_Sales IsHoliday year month week\n",
       "1 1     1    2010-02-05 24924.50     FALSE     2010 2      5  \n",
       "2 1     1    2010-02-12 46039.49      TRUE     2010 2      6  \n",
       "3 1     1    2010-02-19 41595.55     FALSE     2010 2      7  \n",
       "4 1     1    2010-02-26 19403.54     FALSE     2010 2      8  \n",
       "5 1     1    2010-03-05 21827.90     FALSE     2010 3      9  \n",
       "6 1     1    2010-03-12 21043.39     FALSE     2010 3     10  "
      ]
     },
     "metadata": {},
     "output_type": "display_data"
    },
    {
     "data": {
      "text/html": [
       "<table>\n",
       "<thead><tr><th></th><th scope=col>Store</th><th scope=col>Dept</th><th scope=col>Date</th><th scope=col>Weekly_Sales</th><th scope=col>IsHoliday</th><th scope=col>Weekly_Pred1</th><th scope=col>Weekly_Pred2</th><th scope=col>Weekly_Pred3</th><th scope=col>year</th><th scope=col>month</th><th scope=col>week</th></tr></thead>\n",
       "<tbody>\n",
       "\t<tr><th scope=row>257450</th><td>45        </td><td>98        </td><td>2012-09-21</td><td> 467.30   </td><td>FALSE     </td><td>0         </td><td>0         </td><td>0         </td><td>2012      </td><td> 9        </td><td>38        </td></tr>\n",
       "\t<tr><th scope=row>257451</th><td>45        </td><td>98        </td><td>2012-09-28</td><td> 508.37   </td><td>FALSE     </td><td>0         </td><td>0         </td><td>0         </td><td>2012      </td><td> 9        </td><td>39        </td></tr>\n",
       "\t<tr><th scope=row>257452</th><td>45        </td><td>98        </td><td>2012-10-05</td><td> 628.10   </td><td>FALSE     </td><td>0         </td><td>0         </td><td>0         </td><td>2012      </td><td>10        </td><td>40        </td></tr>\n",
       "\t<tr><th scope=row>257453</th><td>45        </td><td>98        </td><td>2012-10-12</td><td>1061.02   </td><td>FALSE     </td><td>0         </td><td>0         </td><td>0         </td><td>2012      </td><td>10        </td><td>41        </td></tr>\n",
       "\t<tr><th scope=row>257454</th><td>45        </td><td>98        </td><td>2012-10-19</td><td> 760.01   </td><td>FALSE     </td><td>0         </td><td>0         </td><td>0         </td><td>2012      </td><td>10        </td><td>42        </td></tr>\n",
       "\t<tr><th scope=row>257455</th><td>45        </td><td>98        </td><td>2012-10-26</td><td>1076.80   </td><td>FALSE     </td><td>0         </td><td>0         </td><td>0         </td><td>2012      </td><td>10        </td><td>43        </td></tr>\n",
       "</tbody>\n",
       "</table>\n"
      ],
      "text/latex": [
       "\\begin{tabular}{r|lllllllllll}\n",
       "  & Store & Dept & Date & Weekly\\_Sales & IsHoliday & Weekly\\_Pred1 & Weekly\\_Pred2 & Weekly\\_Pred3 & year & month & week\\\\\n",
       "\\hline\n",
       "\t257450 & 45         & 98         & 2012-09-21 &  467.30    & FALSE      & 0          & 0          & 0          & 2012       &  9         & 38        \\\\\n",
       "\t257451 & 45         & 98         & 2012-09-28 &  508.37    & FALSE      & 0          & 0          & 0          & 2012       &  9         & 39        \\\\\n",
       "\t257452 & 45         & 98         & 2012-10-05 &  628.10    & FALSE      & 0          & 0          & 0          & 2012       & 10         & 40        \\\\\n",
       "\t257453 & 45         & 98         & 2012-10-12 & 1061.02    & FALSE      & 0          & 0          & 0          & 2012       & 10         & 41        \\\\\n",
       "\t257454 & 45         & 98         & 2012-10-19 &  760.01    & FALSE      & 0          & 0          & 0          & 2012       & 10         & 42        \\\\\n",
       "\t257455 & 45         & 98         & 2012-10-26 & 1076.80    & FALSE      & 0          & 0          & 0          & 2012       & 10         & 43        \\\\\n",
       "\\end{tabular}\n"
      ],
      "text/markdown": [
       "\n",
       "| <!--/--> | Store | Dept | Date | Weekly_Sales | IsHoliday | Weekly_Pred1 | Weekly_Pred2 | Weekly_Pred3 | year | month | week | \n",
       "|---|---|---|---|---|---|\n",
       "| 257450 | 45         | 98         | 2012-09-21 |  467.30    | FALSE      | 0          | 0          | 0          | 2012       |  9         | 38         | \n",
       "| 257451 | 45         | 98         | 2012-09-28 |  508.37    | FALSE      | 0          | 0          | 0          | 2012       |  9         | 39         | \n",
       "| 257452 | 45         | 98         | 2012-10-05 |  628.10    | FALSE      | 0          | 0          | 0          | 2012       | 10         | 40         | \n",
       "| 257453 | 45         | 98         | 2012-10-12 | 1061.02    | FALSE      | 0          | 0          | 0          | 2012       | 10         | 41         | \n",
       "| 257454 | 45         | 98         | 2012-10-19 |  760.01    | FALSE      | 0          | 0          | 0          | 2012       | 10         | 42         | \n",
       "| 257455 | 45         | 98         | 2012-10-26 | 1076.80    | FALSE      | 0          | 0          | 0          | 2012       | 10         | 43         | \n",
       "\n",
       "\n"
      ],
      "text/plain": [
       "       Store Dept Date       Weekly_Sales IsHoliday Weekly_Pred1 Weekly_Pred2\n",
       "257450 45    98   2012-09-21  467.30      FALSE     0            0           \n",
       "257451 45    98   2012-09-28  508.37      FALSE     0            0           \n",
       "257452 45    98   2012-10-05  628.10      FALSE     0            0           \n",
       "257453 45    98   2012-10-12 1061.02      FALSE     0            0           \n",
       "257454 45    98   2012-10-19  760.01      FALSE     0            0           \n",
       "257455 45    98   2012-10-26 1076.80      FALSE     0            0           \n",
       "       Weekly_Pred3 year month week\n",
       "257450 0            2012  9    38  \n",
       "257451 0            2012  9    39  \n",
       "257452 0            2012 10    40  \n",
       "257453 0            2012 10    41  \n",
       "257454 0            2012 10    42  \n",
       "257455 0            2012 10    43  "
      ]
     },
     "metadata": {},
     "output_type": "display_data"
    }
   ],
   "source": [
    "# output the head of training and test set\n",
    "head(train)\n",
    "tail(test)"
   ]
  },
  {
   "cell_type": "markdown",
   "metadata": {},
   "source": [
    "# Model 1"
   ]
  },
  {
   "cell_type": "markdown",
   "metadata": {},
   "source": [
    "* use the information from the previous year\n",
    "* the same department, same store\n",
    "* week - 1, week, week + 1"
   ]
  },
  {
   "cell_type": "code",
   "execution_count": 5,
   "metadata": {
    "collapsed": false
   },
   "outputs": [
    {
     "name": "stdout",
     "output_type": "stream",
     "text": [
      "Current date:\t 2011 3 11813 164115 \n",
      "Current date:\t 2011 4 14746 175928 \n"
     ]
    },
    {
     "data": {
      "text/plain": [
       "Time difference of 4.034444 mins"
      ]
     },
     "metadata": {},
     "output_type": "display_data"
    }
   ],
   "source": [
    "start.time = Sys.time()  # get time information\n",
    "\n",
    "for (t in 1:2) {\n",
    "    month = 2 + t\n",
    "    year = 2011\n",
    "    if (month > 12) {\n",
    "        month = month - 12\n",
    "        year = 2011 + 1\n",
    "    }\n",
    "    \n",
    "    # get the tmp test data\n",
    "    tmp.test = test[(test$year == year) & (test$month == month), ]\n",
    "    \n",
    "    # print useful information\n",
    "    cat('Current date:\\t', year, month, nrow(tmp.test), nrow(train), '\\n')\n",
    "    \n",
    "    # get the length of unique store and department\n",
    "    store = sort(unique(tmp.test$Store))\n",
    "    n.store = length(store)\n",
    "    dept = sort(unique(tmp.test$Dept))\n",
    "    n.dept = length(dept)\n",
    "    \n",
    "    # choose the median value from the last year, in week - 1, week, and week + 1\n",
    "    for (s in 1:n.store){\n",
    "        for (d in 1:n.dept){\n",
    "            # find the data for (store, dept) = (s, d)\n",
    "            test.id = which(test$Store == store[s] & test$Dept == dept[d] &\n",
    "                            test$year == year & test$month == month)\n",
    "            test.temp = test[test.id, ]\n",
    "            train.id = which(train$Store == store[s] & train$Dept == dept[d])\n",
    "            train.temp = train[train.id, ]\n",
    "\n",
    "            for (i in 1:length(test.id)){\n",
    "                id = which(train.temp$week == test.temp[i,]$week & \n",
    "                           train.temp$year == test.temp[i,]$year - 1)\n",
    "                # three weeks in the last year\n",
    "                threeWeeksId = c(id - 1, id, id + 1)  \n",
    "                tempSales = train.temp[threeWeeksId, 'Weekly_Sales']\n",
    "                \n",
    "                if (length(tempSales) == 0){\n",
    "                    test$Weekly_Pred1[test.id[i]] = 0\n",
    "                }else{\n",
    "                    test$Weekly_Pred1[test.id[i]] = median(tempSales)\n",
    "                }\n",
    "            }\n",
    "        }\n",
    "    }\n",
    "    \n",
    "    # read new input file\n",
    "    tmp.filename = paste('xxx', t, '.csv', sep='');\n",
    "    newtest = read.csv(tmp.filename)\n",
    "    \n",
    "    # merge together\n",
    "    train = rbind(train[, names(newtest)], newtest)\n",
    "    \n",
    "    # transform the date\n",
    "    train$Date = as.Date(train$Date, '%Y-%m-%d')\n",
    "\n",
    "    # get the year and month information\n",
    "    train$year = year(train$Date)\n",
    "    train$month = month(train$Date)\n",
    "\n",
    "    # get week information\n",
    "    train.week = train$Date\n",
    "    train.week = train.week - train.week[1]  # date is now 0, 7, 14, ...\n",
    "    train.week = train.week / 7 + 5  # make 2010-02-05 as '5'\n",
    "    train.week = as.numeric(train.week) %% 52  ## 52 weeks in a year\n",
    "    train$week = train.week\n",
    "}\n",
    "\n",
    "Sys.time() - start.time"
   ]
  },
  {
   "cell_type": "code",
   "execution_count": 9,
   "metadata": {
    "collapsed": false
   },
   "outputs": [
    {
     "data": {
      "text/html": [
       "<ol class=list-inline>\n",
       "\t<li>'Store'</li>\n",
       "\t<li>'Dept'</li>\n",
       "\t<li>'Date'</li>\n",
       "\t<li>'Weekly_Sales'</li>\n",
       "\t<li>'IsHoliday'</li>\n",
       "</ol>\n"
      ],
      "text/latex": [
       "\\begin{enumerate*}\n",
       "\\item 'Store'\n",
       "\\item 'Dept'\n",
       "\\item 'Date'\n",
       "\\item 'Weekly\\_Sales'\n",
       "\\item 'IsHoliday'\n",
       "\\end{enumerate*}\n"
      ],
      "text/markdown": [
       "1. 'Store'\n",
       "2. 'Dept'\n",
       "3. 'Date'\n",
       "4. 'Weekly_Sales'\n",
       "5. 'IsHoliday'\n",
       "\n",
       "\n"
      ],
      "text/plain": [
       "[1] \"Store\"        \"Dept\"         \"Date\"         \"Weekly_Sales\" \"IsHoliday\"   "
      ]
     },
     "metadata": {},
     "output_type": "display_data"
    }
   ],
   "source": [
    "names(newtest)"
   ]
  },
  {
   "cell_type": "code",
   "execution_count": 23,
   "metadata": {
    "collapsed": false
   },
   "outputs": [
    {
     "data": {
      "text/html": [
       "<table>\n",
       "<thead><tr><th scope=col>Store</th><th scope=col>Dept</th><th scope=col>Date</th><th scope=col>Weekly_Sales</th><th scope=col>IsHoliday</th><th scope=col>year</th><th scope=col>month</th><th scope=col>week</th></tr></thead>\n",
       "<tbody>\n",
       "\t<tr><td>1         </td><td>1         </td><td>2010-02-05</td><td>24924.50  </td><td>FALSE     </td><td>2010      </td><td>2         </td><td> 5        </td></tr>\n",
       "\t<tr><td>1         </td><td>1         </td><td>2010-02-12</td><td>46039.49  </td><td> TRUE     </td><td>2010      </td><td>2         </td><td> 6        </td></tr>\n",
       "\t<tr><td>1         </td><td>1         </td><td>2010-02-19</td><td>41595.55  </td><td>FALSE     </td><td>2010      </td><td>2         </td><td> 7        </td></tr>\n",
       "\t<tr><td>1         </td><td>1         </td><td>2010-02-26</td><td>19403.54  </td><td>FALSE     </td><td>2010      </td><td>2         </td><td> 8        </td></tr>\n",
       "\t<tr><td>1         </td><td>1         </td><td>2010-03-05</td><td>21827.90  </td><td>FALSE     </td><td>2010      </td><td>3         </td><td> 9        </td></tr>\n",
       "\t<tr><td>1         </td><td>1         </td><td>2010-03-12</td><td>21043.39  </td><td>FALSE     </td><td>2010      </td><td>3         </td><td>10        </td></tr>\n",
       "</tbody>\n",
       "</table>\n"
      ],
      "text/latex": [
       "\\begin{tabular}{r|llllllll}\n",
       " Store & Dept & Date & Weekly\\_Sales & IsHoliday & year & month & week\\\\\n",
       "\\hline\n",
       "\t 1          & 1          & 2010-02-05 & 24924.50   & FALSE      & 2010       & 2          &  5        \\\\\n",
       "\t 1          & 1          & 2010-02-12 & 46039.49   &  TRUE      & 2010       & 2          &  6        \\\\\n",
       "\t 1          & 1          & 2010-02-19 & 41595.55   & FALSE      & 2010       & 2          &  7        \\\\\n",
       "\t 1          & 1          & 2010-02-26 & 19403.54   & FALSE      & 2010       & 2          &  8        \\\\\n",
       "\t 1          & 1          & 2010-03-05 & 21827.90   & FALSE      & 2010       & 3          &  9        \\\\\n",
       "\t 1          & 1          & 2010-03-12 & 21043.39   & FALSE      & 2010       & 3          & 10        \\\\\n",
       "\\end{tabular}\n"
      ],
      "text/markdown": [
       "\n",
       "Store | Dept | Date | Weekly_Sales | IsHoliday | year | month | week | \n",
       "|---|---|---|---|---|---|\n",
       "| 1          | 1          | 2010-02-05 | 24924.50   | FALSE      | 2010       | 2          |  5         | \n",
       "| 1          | 1          | 2010-02-12 | 46039.49   |  TRUE      | 2010       | 2          |  6         | \n",
       "| 1          | 1          | 2010-02-19 | 41595.55   | FALSE      | 2010       | 2          |  7         | \n",
       "| 1          | 1          | 2010-02-26 | 19403.54   | FALSE      | 2010       | 2          |  8         | \n",
       "| 1          | 1          | 2010-03-05 | 21827.90   | FALSE      | 2010       | 3          |  9         | \n",
       "| 1          | 1          | 2010-03-12 | 21043.39   | FALSE      | 2010       | 3          | 10         | \n",
       "\n",
       "\n"
      ],
      "text/plain": [
       "  Store Dept Date       Weekly_Sales IsHoliday year month week\n",
       "1 1     1    2010-02-05 24924.50     FALSE     2010 2      5  \n",
       "2 1     1    2010-02-12 46039.49      TRUE     2010 2      6  \n",
       "3 1     1    2010-02-19 41595.55     FALSE     2010 2      7  \n",
       "4 1     1    2010-02-26 19403.54     FALSE     2010 2      8  \n",
       "5 1     1    2010-03-05 21827.90     FALSE     2010 3      9  \n",
       "6 1     1    2010-03-12 21043.39     FALSE     2010 3     10  "
      ]
     },
     "metadata": {},
     "output_type": "display_data"
    }
   ],
   "source": [
    "head(train)"
   ]
  },
  {
   "cell_type": "code",
   "execution_count": null,
   "metadata": {
    "collapsed": true
   },
   "outputs": [],
   "source": [
    "# # get the length of unique store and department\n",
    "# store = sort(unique(test$Store))\n",
    "# n.store = length(store)\n",
    "# dept = sort(unique(test$Dept))\n",
    "# n.dept = length(dept)\n",
    "\n",
    "# # choose the median value from the last year, in week - 1, week, and week + 1\n",
    "# for (s in 1:n.store){\n",
    "# #     cat(\"Store: \", store[s], \"\\n\")\n",
    "#     for (d in 1:n.dept){\n",
    "#         # find the data for (store, dept) = (s, d)\n",
    "#         test.id = which(test$Store == store[s] & test$Dept == dept[d])\n",
    "#         test.temp = test[test.id, ]\n",
    "#         train.id = which(train$Store == store[s] & train$Dept == dept[d])\n",
    "#         train.temp = train[train.id, ]\n",
    "        \n",
    "#         for (i in 1:length(test.id)){\n",
    "#             id = which(train.temp$week == test.temp[i,]$week & train.temp$year == test.temp[i,]$year - 1)\n",
    "#             threeWeeksId = c(id - 1, id, id + 1)  ## three weeks in the last year\n",
    "#             tempSales = train.temp[threeWeeksId, 'Weekly_Sales']\n",
    "#             if (length(tempSales) == 0){\n",
    "#                 test$Weekly_Pred1[test.id[i]] = 0\n",
    "#             }else{\n",
    "#                 test$Weekly_Pred1[test.id[i]] = median(tempSales)\n",
    "#             }\n",
    "#         }\n",
    "#     }\n",
    "# }"
   ]
  },
  {
   "cell_type": "markdown",
   "metadata": {},
   "source": [
    "# Model 2"
   ]
  },
  {
   "cell_type": "markdown",
   "metadata": {},
   "source": [
    "* use the information from the previous years\n",
    "* the same department, but different stores\n",
    "* use the median of the same week"
   ]
  },
  {
   "cell_type": "code",
   "execution_count": null,
   "metadata": {
    "collapsed": true
   },
   "outputs": [],
   "source": [
    "# # get the length of unique department\n",
    "# dept = sort(unique(test$Dept))\n",
    "# n.dept = length(dept)"
   ]
  },
  {
   "cell_type": "code",
   "execution_count": null,
   "metadata": {
    "collapsed": false
   },
   "outputs": [],
   "source": [
    "# # choose the median value from the last year, in week - 1, week, and week + 1\n",
    "# for (d in 1:n.dept){\n",
    "# #     cat(\"Department: \", dept[d], \"\\n\")\n",
    "#     # find the data for (store, dept) = (s, d)\n",
    "#     test.id = which(test$Dept == dept[d])\n",
    "#     test.temp = test[test.id, ]\n",
    "#     train.id = which(train$Dept == dept[d])\n",
    "#     train.temp = train[train.id, ]\n",
    "\n",
    "#     for (i in 1:length(test.id)){\n",
    "#         id = which(train.temp$week == test.temp[i,]$week & train.temp$year < test.temp[i,]$year)\n",
    "#         tempSales = train.temp[id, 'Weekly_Sales']\n",
    "#         if (length(tempSales) == 0){\n",
    "#             test$Weekly_Pred2[test.id[i]] = 0\n",
    "#         }else{\n",
    "#             test$Weekly_Pred2[test.id[i]] = median(tempSales)\n",
    "#         }\n",
    "#     }\n",
    "# }"
   ]
  },
  {
   "cell_type": "markdown",
   "metadata": {},
   "source": [
    "# Model 3"
   ]
  },
  {
   "cell_type": "markdown",
   "metadata": {},
   "source": [
    "* use the information from the previous years\n",
    "* the same department, same store\n",
    "* use all weeks' information to make forecast"
   ]
  },
  {
   "cell_type": "code",
   "execution_count": null,
   "metadata": {
    "collapsed": true
   },
   "outputs": [],
   "source": []
  },
  {
   "cell_type": "markdown",
   "metadata": {},
   "source": [
    "# Model 4"
   ]
  },
  {
   "cell_type": "markdown",
   "metadata": {},
   "source": [
    "* not decided yet"
   ]
  },
  {
   "cell_type": "code",
   "execution_count": null,
   "metadata": {
    "collapsed": true
   },
   "outputs": [],
   "source": []
  },
  {
   "cell_type": "markdown",
   "metadata": {},
   "source": [
    "# Performance Testing"
   ]
  },
  {
   "cell_type": "markdown",
   "metadata": {},
   "source": [
    "* According to the definition of the weighted mean absolute error (WMAE)\n",
    "* Link to Kaggle: [Walmart Recruiting - Store Sales Forecasting](https://www.kaggle.com/c/walmart-recruiting-store-sales-forecasting#evaluation)"
   ]
  },
  {
   "cell_type": "code",
   "execution_count": 25,
   "metadata": {
    "collapsed": false
   },
   "outputs": [],
   "source": [
    "# define weight w\n",
    "weight = 4 * test$IsHoliday + 1\n",
    "\n",
    "# calculate the performance of different models\n",
    "WMAE1 = sum(weight * abs(test$Weekly_Pred1 - test$Weekly_Sales)) / sum(weight)\n",
    "WMAE2 = sum(weight * abs(test$Weekly_Pred2 - test$Weekly_Sales)) / sum(weight)\n",
    "WMAE3 = sum(weight * abs(test$Weekly_Pred3 - test$Weekly_Sales)) / sum(weight)\n",
    "\n",
    "# output the performance of different models\n",
    "cat(WMAE1, '\\t', WMAE2, '\\t', WMAE3, '\\n')"
   ]
  },
  {
   "cell_type": "code",
   "execution_count": null,
   "metadata": {
    "collapsed": true
   },
   "outputs": [],
   "source": []
  }
 ],
 "metadata": {
  "kernelspec": {
   "display_name": "R",
   "language": "R",
   "name": "ir"
  },
  "language_info": {
   "codemirror_mode": "r",
   "file_extension": ".r",
   "mimetype": "text/x-r-source",
   "name": "R",
   "pygments_lexer": "r",
   "version": "3.3.2"
  }
 },
 "nbformat": 4,
 "nbformat_minor": 2
}

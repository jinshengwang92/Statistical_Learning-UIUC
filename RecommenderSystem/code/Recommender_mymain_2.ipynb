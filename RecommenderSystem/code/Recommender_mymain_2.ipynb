{
 "cells": [
  {
   "cell_type": "markdown",
   "metadata": {},
   "source": [
    "# Movie Recommender code for STAT542 final project\n",
    "#### 05/09/2017"
   ]
  },
  {
   "cell_type": "markdown",
   "metadata": {},
   "source": [
    "## Load necessary packages"
   ]
  },
  {
   "cell_type": "code",
   "execution_count": 1,
   "metadata": {
    "collapsed": false
   },
   "outputs": [
    {
     "name": "stderr",
     "output_type": "stream",
     "text": [
      "Loading required package: recommenderlab\n",
      "Loading required package: Matrix\n",
      "Loading required package: arules\n",
      "\n",
      "Attaching package: ‘arules’\n",
      "\n",
      "The following objects are masked from ‘package:base’:\n",
      "\n",
      "    abbreviate, write\n",
      "\n",
      "Loading required package: proxy\n",
      "\n",
      "Attaching package: ‘proxy’\n",
      "\n",
      "The following object is masked from ‘package:Matrix’:\n",
      "\n",
      "    as.matrix\n",
      "\n",
      "The following objects are masked from ‘package:stats’:\n",
      "\n",
      "    as.dist, dist\n",
      "\n",
      "The following object is masked from ‘package:base’:\n",
      "\n",
      "    as.matrix\n",
      "\n",
      "Loading required package: registry\n",
      "Loading required package: reshape2\n",
      "Loading required package: ggplot2\n"
     ]
    }
   ],
   "source": [
    "all.start.time = Sys.time()\n",
    "\n",
    "# inhibit warning messages\n",
    "options(warn=-1)\n",
    "\n",
    "# check for required packages\n",
    "if (!require(recommenderlab)) {\n",
    "  install.packages(\"recommenderlab\")\n",
    "}\n",
    "if (!require(reshape2)) {\n",
    "  install.packages(\"reshape2\")\n",
    "}\n",
    "if (!require(ggplot2)) {\n",
    "  install.packages(\"ggplot2\")\n",
    "}\n",
    "library(recommenderlab)\n",
    "library(reshape2)\n",
    "library(ggplot2)"
   ]
  },
  {
   "cell_type": "markdown",
   "metadata": {},
   "source": [
    "## Read training and testing data into memory"
   ]
  },
  {
   "cell_type": "code",
   "execution_count": 2,
   "metadata": {
    "collapsed": false
   },
   "outputs": [
    {
     "data": {
      "text/html": [
       "<table>\n",
       "<thead><tr><th scope=col>UserID</th><th scope=col>MovieID</th><th scope=col>Rating</th></tr></thead>\n",
       "<tbody>\n",
       "\t<tr><td>1   </td><td> 661</td><td>3   </td></tr>\n",
       "\t<tr><td>1   </td><td>3408</td><td>4   </td></tr>\n",
       "\t<tr><td>1   </td><td>2355</td><td>5   </td></tr>\n",
       "\t<tr><td>1   </td><td>1197</td><td>3   </td></tr>\n",
       "\t<tr><td>1   </td><td>1287</td><td>5   </td></tr>\n",
       "</tbody>\n",
       "</table>\n"
      ],
      "text/latex": [
       "\\begin{tabular}{r|lll}\n",
       " UserID & MovieID & Rating\\\\\n",
       "\\hline\n",
       "\t 1    &  661 & 3   \\\\\n",
       "\t 1    & 3408 & 4   \\\\\n",
       "\t 1    & 2355 & 5   \\\\\n",
       "\t 1    & 1197 & 3   \\\\\n",
       "\t 1    & 1287 & 5   \\\\\n",
       "\\end{tabular}\n"
      ],
      "text/markdown": [
       "\n",
       "UserID | MovieID | Rating | \n",
       "|---|---|---|---|---|\n",
       "| 1    |  661 | 3    | \n",
       "| 1    | 3408 | 4    | \n",
       "| 1    | 2355 | 5    | \n",
       "| 1    | 1197 | 3    | \n",
       "| 1    | 1287 | 5    | \n",
       "\n",
       "\n"
      ],
      "text/plain": [
       "  UserID MovieID Rating\n",
       "1 1       661    3     \n",
       "2 1      3408    4     \n",
       "3 1      2355    5     \n",
       "4 1      1197    3     \n",
       "5 1      1287    5     "
      ]
     },
     "metadata": {},
     "output_type": "display_data"
    },
    {
     "data": {
      "text/html": [
       "600126"
      ],
      "text/latex": [
       "600126"
      ],
      "text/markdown": [
       "600126"
      ],
      "text/plain": [
       "[1] 600126"
      ]
     },
     "metadata": {},
     "output_type": "display_data"
    }
   ],
   "source": [
    "# read in training data\n",
    "train = read.csv(\"../data/train.dat\",colClasses = c('integer', 'NULL'),header=FALSE,sep = ':')\n",
    "# set the new column names\n",
    "colnames(train) = c('UserID', 'MovieID', 'Rating', 'Timestamp')\n",
    "# remove the timestamp\n",
    "train = train[,c('UserID', 'MovieID', 'Rating')]\n",
    "train[1:5,]\n",
    "nrow(train)"
   ]
  },
  {
   "cell_type": "code",
   "execution_count": 3,
   "metadata": {
    "collapsed": false
   },
   "outputs": [
    {
     "data": {
      "text/html": [
       "<table>\n",
       "<thead><tr><th scope=col>ID</th><th scope=col>user</th><th scope=col>movie</th></tr></thead>\n",
       "<tbody>\n",
       "\t<tr><td>1   </td><td>1   </td><td>1193</td></tr>\n",
       "\t<tr><td>2   </td><td>1   </td><td> 914</td></tr>\n",
       "\t<tr><td>3   </td><td>1   </td><td> 938</td></tr>\n",
       "\t<tr><td>4   </td><td>1   </td><td>2918</td></tr>\n",
       "\t<tr><td>5   </td><td>1   </td><td> 720</td></tr>\n",
       "</tbody>\n",
       "</table>\n"
      ],
      "text/latex": [
       "\\begin{tabular}{r|lll}\n",
       " ID & user & movie\\\\\n",
       "\\hline\n",
       "\t 1    & 1    & 1193\\\\\n",
       "\t 2    & 1    &  914\\\\\n",
       "\t 3    & 1    &  938\\\\\n",
       "\t 4    & 1    & 2918\\\\\n",
       "\t 5    & 1    &  720\\\\\n",
       "\\end{tabular}\n"
      ],
      "text/markdown": [
       "\n",
       "ID | user | movie | \n",
       "|---|---|---|---|---|\n",
       "| 1    | 1    | 1193 | \n",
       "| 2    | 1    |  914 | \n",
       "| 3    | 1    |  938 | \n",
       "| 4    | 1    | 2918 | \n",
       "| 5    | 1    |  720 | \n",
       "\n",
       "\n"
      ],
      "text/plain": [
       "  ID user movie\n",
       "1 1  1    1193 \n",
       "2 2  1     914 \n",
       "3 3  1     938 \n",
       "4 4  1    2918 \n",
       "5 5  1     720 "
      ]
     },
     "metadata": {},
     "output_type": "display_data"
    },
    {
     "data": {
      "text/html": [
       "<table>\n",
       "<thead><tr><th scope=col>UserID</th><th scope=col>MovieID</th><th scope=col>Rating</th></tr></thead>\n",
       "<tbody>\n",
       "\t<tr><td>1   </td><td>1193</td><td>NA  </td></tr>\n",
       "\t<tr><td>1   </td><td> 914</td><td>NA  </td></tr>\n",
       "\t<tr><td>1   </td><td> 938</td><td>NA  </td></tr>\n",
       "\t<tr><td>1   </td><td>2918</td><td>NA  </td></tr>\n",
       "\t<tr><td>1   </td><td> 720</td><td>NA  </td></tr>\n",
       "</tbody>\n",
       "</table>\n"
      ],
      "text/latex": [
       "\\begin{tabular}{r|lll}\n",
       " UserID & MovieID & Rating\\\\\n",
       "\\hline\n",
       "\t 1    & 1193 & NA  \\\\\n",
       "\t 1    &  914 & NA  \\\\\n",
       "\t 1    &  938 & NA  \\\\\n",
       "\t 1    & 2918 & NA  \\\\\n",
       "\t 1    &  720 & NA  \\\\\n",
       "\\end{tabular}\n"
      ],
      "text/markdown": [
       "\n",
       "UserID | MovieID | Rating | \n",
       "|---|---|---|---|---|\n",
       "| 1    | 1193 | NA   | \n",
       "| 1    |  914 | NA   | \n",
       "| 1    |  938 | NA   | \n",
       "| 1    | 2918 | NA   | \n",
       "| 1    |  720 | NA   | \n",
       "\n",
       "\n"
      ],
      "text/plain": [
       "  UserID MovieID Rating\n",
       "1 1      1193    NA    \n",
       "2 1       914    NA    \n",
       "3 1       938    NA    \n",
       "4 1      2918    NA    \n",
       "5 1       720    NA    "
      ]
     },
     "metadata": {},
     "output_type": "display_data"
    },
    {
     "data": {
      "text/html": [
       "200041"
      ],
      "text/latex": [
       "200041"
      ],
      "text/markdown": [
       "200041"
      ],
      "text/plain": [
       "[1] 200041"
      ]
     },
     "metadata": {},
     "output_type": "display_data"
    }
   ],
   "source": [
    "# read in testing data\n",
    "test_raw = read.csv(\"../data/test.csv\",header=TRUE,sep = ',')\n",
    "test_raw[1:5,]\n",
    "test = test_raw[,-c(1)]\n",
    "colnames(test) = c('UserID','MovieID')\n",
    "test$Rating = NA\n",
    "test[1:5,]\n",
    "nrow(test)"
   ]
  },
  {
   "cell_type": "code",
   "execution_count": 4,
   "metadata": {
    "collapsed": false
   },
   "outputs": [
    {
     "data": {
      "text/html": [
       "<table>\n",
       "<thead><tr><th></th><th scope=col>UserID</th><th scope=col>MovieID</th><th scope=col>Rating</th></tr></thead>\n",
       "<tbody>\n",
       "\t<tr><th scope=row>600122</th><td>6040</td><td>2020</td><td> 3  </td></tr>\n",
       "\t<tr><th scope=row>600123</th><td>6040</td><td>2028</td><td> 5  </td></tr>\n",
       "\t<tr><th scope=row>600124</th><td>6040</td><td>1091</td><td> 1  </td></tr>\n",
       "\t<tr><th scope=row>600125</th><td>6040</td><td>1094</td><td> 5  </td></tr>\n",
       "\t<tr><th scope=row>600126</th><td>6040</td><td> 562</td><td> 5  </td></tr>\n",
       "\t<tr><th scope=row>600127</th><td>   1</td><td>1193</td><td>NA  </td></tr>\n",
       "\t<tr><th scope=row>600128</th><td>   1</td><td> 914</td><td>NA  </td></tr>\n",
       "\t<tr><th scope=row>600129</th><td>   1</td><td> 938</td><td>NA  </td></tr>\n",
       "\t<tr><th scope=row>600130</th><td>   1</td><td>2918</td><td>NA  </td></tr>\n",
       "</tbody>\n",
       "</table>\n"
      ],
      "text/latex": [
       "\\begin{tabular}{r|lll}\n",
       "  & UserID & MovieID & Rating\\\\\n",
       "\\hline\n",
       "\t600122 & 6040 & 2020 &  3  \\\\\n",
       "\t600123 & 6040 & 2028 &  5  \\\\\n",
       "\t600124 & 6040 & 1091 &  1  \\\\\n",
       "\t600125 & 6040 & 1094 &  5  \\\\\n",
       "\t600126 & 6040 &  562 &  5  \\\\\n",
       "\t600127 &    1 & 1193 & NA  \\\\\n",
       "\t600128 &    1 &  914 & NA  \\\\\n",
       "\t600129 &    1 &  938 & NA  \\\\\n",
       "\t600130 &    1 & 2918 & NA  \\\\\n",
       "\\end{tabular}\n"
      ],
      "text/markdown": [
       "\n",
       "| <!--/--> | UserID | MovieID | Rating | \n",
       "|---|---|---|---|---|---|---|---|---|\n",
       "| 600122 | 6040 | 2020 |  3   | \n",
       "| 600123 | 6040 | 2028 |  5   | \n",
       "| 600124 | 6040 | 1091 |  1   | \n",
       "| 600125 | 6040 | 1094 |  5   | \n",
       "| 600126 | 6040 |  562 |  5   | \n",
       "| 600127 |    1 | 1193 | NA   | \n",
       "| 600128 |    1 |  914 | NA   | \n",
       "| 600129 |    1 |  938 | NA   | \n",
       "| 600130 |    1 | 2918 | NA   | \n",
       "\n",
       "\n"
      ],
      "text/plain": [
       "       UserID MovieID Rating\n",
       "600122 6040   2020     3    \n",
       "600123 6040   2028     5    \n",
       "600124 6040   1091     1    \n",
       "600125 6040   1094     5    \n",
       "600126 6040    562     5    \n",
       "600127    1   1193    NA    \n",
       "600128    1    914    NA    \n",
       "600129    1    938    NA    \n",
       "600130    1   2918    NA    "
      ]
     },
     "metadata": {},
     "output_type": "display_data"
    },
    {
     "data": {
      "text/html": [
       "800167"
      ],
      "text/latex": [
       "800167"
      ],
      "text/markdown": [
       "800167"
      ],
      "text/plain": [
       "[1] 800167"
      ]
     },
     "metadata": {},
     "output_type": "display_data"
    }
   ],
   "source": [
    "# combine the train data with the test data\n",
    "all_data = rbind(train,test)\n",
    "all_data[600122:600130,]\n",
    "nrow(all_data)"
   ]
  },
  {
   "cell_type": "markdown",
   "metadata": {},
   "source": [
    "## Data transformation and model building"
   ]
  },
  {
   "cell_type": "code",
   "execution_count": 5,
   "metadata": {
    "collapsed": false
   },
   "outputs": [
    {
     "name": "stderr",
     "output_type": "stream",
     "text": [
      "Using Rating as value column: use value.var to override.\n"
     ]
    }
   ],
   "source": [
    "# using acast to transform data into user-movie matrix\n",
    "data_acast = acast(all_data, UserID ~ MovieID)\n",
    "temp_R = as.matrix(data_acast)  # covert it to a matrix\n",
    "# convert the matrix R into a realRatingMatrix data structure\n",
    "real_rating_mat = as(temp_R, \"realRatingMatrix\")\n",
    "# we can also normalize the matrix\n",
    "norm_real_rating_mat = normalize(real_rating_mat)  # not necessarily useful later"
   ]
  },
  {
   "cell_type": "code",
   "execution_count": 7,
   "metadata": {
    "collapsed": false
   },
   "outputs": [
    {
     "name": "stdout",
     "output_type": "stream",
     "text": [
      "Available parameter (with default values):\n",
      "method\t =  cosine\n",
      "nn\t =  25\n",
      "sample\t =  FALSE\n",
      "normalize\t =  center\n",
      "verbose\t =  FALSE\n",
      "Recommender of type ‘UBCF’ for ‘realRatingMatrix’ \n",
      "learned using 6040 users.\n"
     ]
    },
    {
     "data": {
      "text/html": [
       "<ol class=list-inline>\n",
       "\t<li>'description'</li>\n",
       "\t<li>'data'</li>\n",
       "\t<li>'method'</li>\n",
       "\t<li>'nn'</li>\n",
       "\t<li>'sample'</li>\n",
       "\t<li>'normalize'</li>\n",
       "\t<li>'verbose'</li>\n",
       "</ol>\n"
      ],
      "text/latex": [
       "\\begin{enumerate*}\n",
       "\\item 'description'\n",
       "\\item 'data'\n",
       "\\item 'method'\n",
       "\\item 'nn'\n",
       "\\item 'sample'\n",
       "\\item 'normalize'\n",
       "\\item 'verbose'\n",
       "\\end{enumerate*}\n"
      ],
      "text/markdown": [
       "1. 'description'\n",
       "2. 'data'\n",
       "3. 'method'\n",
       "4. 'nn'\n",
       "5. 'sample'\n",
       "6. 'normalize'\n",
       "7. 'verbose'\n",
       "\n",
       "\n"
      ],
      "text/plain": [
       "[1] \"description\" \"data\"        \"method\"      \"nn\"          \"sample\"     \n",
       "[6] \"normalize\"   \"verbose\"    "
      ]
     },
     "metadata": {},
     "output_type": "display_data"
    },
    {
     "data": {
      "text/html": [
       "5"
      ],
      "text/latex": [
       "5"
      ],
      "text/markdown": [
       "5"
      ],
      "text/plain": [
       "[1] 5"
      ]
     },
     "metadata": {},
     "output_type": "display_data"
    }
   ],
   "source": [
    "# Building a recommender object/model to train and fit\n",
    "#recom_model = Recommender(real_rating_mat[1:nrow(real_rating_mat)],method=\"UBCF\", \n",
    "#                        param=list(normalize = \"Z-score\",method=\"Cosine\",nn=5, minRating=1))\n",
    "recom_model = Recommender(real_rating_mat[1:nrow(real_rating_mat)],method=\"UBCF\", \n",
    "                          param=list(normalize = \"Z-score\",method=\"Jaccard\",nn=5, minRating=1))\n",
    "# examine what we got for the mdoel\n",
    "# Depending upon your selection, examine what you got\n",
    "print(recom_model)\n",
    "names(getModel(recom_model))\n",
    "getModel(recom_model)$nn\n",
    "\n",
    "recom = predict(recom_model, real_rating_mat[1:nrow(real_rating_mat)], type=\"ratings\")"
   ]
  },
  {
   "cell_type": "markdown",
   "metadata": {},
   "source": [
    "## Create submission files and calculate performance (RMSE)"
   ]
  },
  {
   "cell_type": "code",
   "execution_count": 8,
   "metadata": {
    "collapsed": false
   },
   "outputs": [
    {
     "data": {
      "text/html": [
       "200041"
      ],
      "text/latex": [
       "200041"
      ],
      "text/markdown": [
       "200041"
      ],
      "text/plain": [
       "[1] 200041"
      ]
     },
     "metadata": {},
     "output_type": "display_data"
    }
   ],
   "source": [
    "# create the submission files\n",
    "recom_list=as(recom,\"list\")\n",
    "ratings = NULL\n",
    "for ( u_id in 1:length(test[,1]))\n",
    "{    # read the userID and movieID from column 1 and column 2 of test data\n",
    "    userid = test[u_id,1]\n",
    "    movieid = test[u_id,2]\n",
    "    this_user = as.data.frame(recom_list[[userid]])  \n",
    "    # find all the movie ratings for this user to a dataframe for rating retrieval\n",
    "    this_user$id=row.names(this_user)\n",
    "    X_rating = this_user[this_user$id==movieid,1]\n",
    "    ratings[u_id] = ifelse(length(X_rating) == 0, 0, X_rating)\n",
    "}\n",
    "length(ratings)\n",
    "test_raw$rating = ratings\n",
    "write.table(test_raw,file=\"../data/mysubmission2.csv\",row.names=FALSE,col.names=TRUE,sep=',')"
   ]
  },
  {
   "cell_type": "code",
   "execution_count": 9,
   "metadata": {
    "collapsed": false
   },
   "outputs": [
    {
     "name": "stdout",
     "output_type": "stream",
     "text": [
      "This code gave RMSE as:\t 1.01235395878731 \n"
     ]
    }
   ],
   "source": [
    "# calculate the RMSE\n",
    "true_ratings = read.csv(\"../data/trueLabel.csv\",header=TRUE,sep = ',')[,2]\n",
    "my_rmse = RMSE(true_ratings,ratings,na.rm=TRUE)\n",
    "cat('This code gave RMSE as:\\t', as.character(my_rmse), '\\n')"
   ]
  },
  {
   "cell_type": "code",
   "execution_count": 10,
   "metadata": {
    "collapsed": false
   },
   "outputs": [
    {
     "name": "stdout",
     "output_type": "stream",
     "text": [
      "Round ratings gave RMSE as:\t 1.05195206466597 \n"
     ]
    }
   ],
   "source": [
    "ratings_round = round(ratings)\n",
    "my_rmse_round = RMSE(true_ratings,ratings_round,na.rm=TRUE)\n",
    "cat('Round ratings gave RMSE as:\\t', as.character(my_rmse_round), '\\n')"
   ]
  },
  {
   "cell_type": "code",
   "execution_count": 11,
   "metadata": {
    "collapsed": false
   },
   "outputs": [
    {
     "name": "stdout",
     "output_type": "stream",
     "text": [
      "===== Total running time info =====\n",
      "Start   at:\t 2017-05-09 17:41:16 \n",
      "End     at:\t 2017-05-09 18:06:22 \n",
      "Total time:\t 25.095 \n"
     ]
    }
   ],
   "source": [
    "# Pring on screen the running time info of this code\n",
    "all.end.time = Sys.time()\n",
    "cat(\"===== Total running time info =====\\n\")\n",
    "cat('Start   at:\\t', as.character(all.start.time), '\\n')\n",
    "cat('End     at:\\t', as.character(all.end.time), '\\n')\n",
    "cat('Total time:\\t', all.end.time - all.start.time, '\\n')"
   ]
  },
  {
   "cell_type": "markdown",
   "metadata": {},
   "source": [
    "## Acknowledge\n",
    "#### This code borrowd some ideas and code component from TA's code and website at\n",
    "https://ashokharnal.wordpress.com/2014/12/18/using-recommenderlab-for-predicting-ratings-for-movielens-data/"
   ]
  },
  {
   "cell_type": "code",
   "execution_count": null,
   "metadata": {
    "collapsed": true
   },
   "outputs": [],
   "source": []
  }
 ],
 "metadata": {
  "kernelspec": {
   "display_name": "R",
   "language": "R",
   "name": "ir"
  },
  "language_info": {
   "codemirror_mode": "r",
   "file_extension": ".r",
   "mimetype": "text/x-r-source",
   "name": "R",
   "pygments_lexer": "r",
   "version": "3.3.2"
  }
 },
 "nbformat": 4,
 "nbformat_minor": 2
}

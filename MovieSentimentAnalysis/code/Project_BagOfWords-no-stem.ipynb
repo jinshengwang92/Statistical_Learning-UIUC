{
 "cells": [
  {
   "cell_type": "markdown",
   "metadata": {},
   "source": [
    "# STAT542 Project 4 - Sentiment Analysis for IMDB Movies "
   ]
  },
  {
   "cell_type": "markdown",
   "metadata": {},
   "source": [
    "This notebook is to perform sentiment analysis on IMDB moives using natural language processing techniques and ML classification models with sklearn."
   ]
  },
  {
   "cell_type": "markdown",
   "metadata": {},
   "source": [
    "## Import packages"
   ]
  },
  {
   "cell_type": "code",
   "execution_count": 1,
   "metadata": {
    "collapsed": false
   },
   "outputs": [],
   "source": [
    "import numpy as np\n",
    "import matplotlib.pyplot as plt\n",
    "import pandas as pd\n",
    "from bs4 import BeautifulSoup\n",
    "import re\n",
    "import nltk\n",
    "from nltk.corpus import stopwords\n",
    "from sklearn.feature_extraction.text import CountVectorizer\n",
    "from sklearn.ensemble import RandomForestClassifier\n",
    "from sklearn.linear_model import LogisticRegression\n",
    "from xgboost import XGBClassifier as XgbC\n",
    "from nltk.stem import PorterStemmer\n",
    "import time"
   ]
  },
  {
   "cell_type": "markdown",
   "metadata": {},
   "source": [
    "## Data cleaning"
   ]
  },
  {
   "cell_type": "code",
   "execution_count": 2,
   "metadata": {
    "collapsed": true
   },
   "outputs": [],
   "source": [
    "# for data processing part, in order to increase the speed and have better scalabity, we define a funciton here\n",
    "def Review2Words(original_review):\n",
    "    ''' This function take an original movie review and do some cleaning work to turn them into space delimited string\n",
    "        for later building of bag of words and machine learning models\n",
    "    '''\n",
    "    # step 1: if HTML exists, remove them\n",
    "    review_temp1 = BeautifulSoup(original_review,\"lxml\").get_text()\n",
    "    # step 2: remove non alphabatical letters\n",
    "    review_temp2 = re.sub(\"[^a-zA-Z]\",'',review_temp1)\n",
    "    # step 3: to lower case and split into signle words\n",
    "    review_words = review_temp2.lower().split()\n",
    "    # step 4: make the stop words\n",
    "    stopWords = set(stopwords.words(\"english\"))\n",
    "    # step 5: remove stop words\n",
    "    left_words = [word for word in review_words if word not in stopWords]\n",
    "    # step 6: form the final space separated string\n",
    "    #port = PorterStemmer()\n",
    "    final_string = \" \".join(left_words)\n",
    "    return final_string"
   ]
  },
  {
   "cell_type": "code",
   "execution_count": 3,
   "metadata": {
    "collapsed": false
   },
   "outputs": [],
   "source": [
    "# read the training and test files  and check the dimension\n",
    "train_raw = pd.read_csv('../data/labeledTrainData.tsv',delimiter='\\t',header=0,quoting=3)\n",
    "assert train_raw.shape == (25000, 3)\n",
    "test_raw  = pd.read_csv('../data/testData.tsv',delimiter='\\t',header=0,quoting=3)\n",
    "assert test_raw.shape == (25000, 2)\n",
    "\n",
    "# use map to speep up the cleaning process\n",
    "train_reviews = list(map(Review2Words,train_raw['review']))\n",
    "test_reviews  = list(map(Review2Words,test_raw['review']))"
   ]
  },
  {
   "cell_type": "code",
   "execution_count": 4,
   "metadata": {
    "collapsed": false
   },
   "outputs": [
    {
     "data": {
      "text/plain": [
       "0    1\n",
       "1    1\n",
       "2    0\n",
       "3    0\n",
       "4    1\n",
       "5    1\n",
       "6    0\n",
       "7    0\n",
       "8    0\n",
       "9    1\n",
       "Name: sentiment, dtype: int64"
      ]
     },
     "execution_count": 4,
     "metadata": {},
     "output_type": "execute_result"
    }
   ],
   "source": [
    "train_raw['sentiment'][:10]"
   ]
  },
  {
   "cell_type": "markdown",
   "metadata": {},
   "source": [
    "## Creating Bag of Words with sklearn"
   ]
  },
  {
   "cell_type": "code",
   "execution_count": 5,
   "metadata": {
    "collapsed": false
   },
   "outputs": [],
   "source": [
    "# first to initialize the CounterVectorizer object\n",
    "features_keep = 5000\n",
    "my_vectorizer = CountVectorizer(analyzer    = 'word', \\\n",
    "                                tokenizer    = None,   \\\n",
    "                                preprocessor = None,   \\\n",
    "                                stop_words   = None,   \\\n",
    "                                max_features = features_keep )\n",
    "\n",
    "# fit the vectorizer and transform the training data into vector\n",
    "train_features = my_vectorizer.fit_transform(train_reviews).toarray()\n",
    "assert train_features.shape == (25000, features_keep)\n",
    "test_features  = my_vectorizer.transform(test_reviews).toarray()"
   ]
  },
  {
   "cell_type": "markdown",
   "metadata": {},
   "source": [
    "## Building Machine Learning models"
   ]
  },
  {
   "cell_type": "markdown",
   "metadata": {},
   "source": [
    "### Random Forest Model"
   ]
  },
  {
   "cell_type": "code",
   "execution_count": 6,
   "metadata": {
    "collapsed": false
   },
   "outputs": [
    {
     "name": "stdout",
     "output_type": "stream",
     "text": [
      "Model fitting used 1245.8103439807892\n"
     ]
    }
   ],
   "source": [
    "# first we try the Random forest as demonstrated on Kaggle website\n",
    "\n",
    "# count the time used\n",
    "start_t = time.time()\n",
    "# fit the model\n",
    "my_rf_model = RandomForestClassifier(n_estimators=100,random_state = 2017,n_jobs = -1) \\\n",
    "            .fit(train_features,train_raw['sentiment'])\n",
    "\n",
    "# carry out prediction\n",
    "my_output   = my_rf_model.predict(test_features)\n",
    "\n",
    "end_t = time.time()\n",
    "print(\"Model fitting used {0}\".format(end_t - start_t))\n",
    "result = pd.DataFrame(data={'id':test_raw['id'],'sentiment':my_output})\n",
    "\n",
    "# write result to files\n",
    "result.to_csv('../report/bagOfWords_RF2.csv',index=False, quoting=3)"
   ]
  },
  {
   "cell_type": "code",
   "execution_count": 7,
   "metadata": {
    "collapsed": false
   },
   "outputs": [
    {
     "data": {
      "text/plain": [
       "24976"
      ]
     },
     "execution_count": 7,
     "metadata": {},
     "output_type": "execute_result"
    }
   ],
   "source": [
    "sum(result['sentiment'])"
   ]
  },
  {
   "cell_type": "markdown",
   "metadata": {},
   "source": [
    "## XGBoost model"
   ]
  },
  {
   "cell_type": "code",
   "execution_count": 8,
   "metadata": {
    "collapsed": false
   },
   "outputs": [
    {
     "name": "stdout",
     "output_type": "stream",
     "text": [
      "Model fitting used 127.24032092094421\n"
     ]
    }
   ],
   "source": [
    "# count the time used\n",
    "start_t = time.time()\n",
    "xgb_model = XgbC(seed = 2017,nthread=4)\n",
    "xgb_model.fit(train_features,train_raw['sentiment'])\n",
    "# carry out prediction\n",
    "my_output   = xgb_model.predict(test_features)\n",
    "\n",
    "end_t = time.time()\n",
    "print(\"Model fitting used {0}\".format(end_t - start_t))\n",
    "result = pd.DataFrame(data={'id':test_raw['id'],'sentiment':my_output})\n",
    "\n",
    "# write result to files\n",
    "result.to_csv('../report/bagOfWords_Xgb.csv',index=False, quoting=3)"
   ]
  },
  {
   "cell_type": "code",
   "execution_count": 9,
   "metadata": {
    "collapsed": false
   },
   "outputs": [
    {
     "data": {
      "text/plain": [
       "12500"
      ]
     },
     "execution_count": 9,
     "metadata": {},
     "output_type": "execute_result"
    }
   ],
   "source": [
    "sum(train_raw['sentiment']==1)"
   ]
  },
  {
   "cell_type": "code",
   "execution_count": 10,
   "metadata": {
    "collapsed": false
   },
   "outputs": [
    {
     "data": {
      "text/plain": [
       "25000"
      ]
     },
     "execution_count": 10,
     "metadata": {},
     "output_type": "execute_result"
    }
   ],
   "source": [
    "sum(result['sentiment']==0)"
   ]
  },
  {
   "cell_type": "markdown",
   "metadata": {},
   "source": [
    "## Logistic Regression"
   ]
  },
  {
   "cell_type": "code",
   "execution_count": 11,
   "metadata": {
    "collapsed": false
   },
   "outputs": [
    {
     "name": "stdout",
     "output_type": "stream",
     "text": [
      "Model fitting used 4.542827844619751\n"
     ]
    }
   ],
   "source": [
    "# count the time used\n",
    "start_t = time.time()\n",
    "lr_model = LogisticRegression(random_state = 2017,n_jobs=4)\n",
    "lr_model.fit(train_features,train_raw['sentiment'])\n",
    "# carry out prediction\n",
    "my_output   = lr_model.predict(test_features)\n",
    "\n",
    "end_t = time.time()\n",
    "print(\"Model fitting used {0}\".format(end_t - start_t))\n",
    "result = pd.DataFrame(data={'id':test_raw['id'],'sentiment':my_output})\n",
    "\n",
    "# write result to files\n",
    "result.to_csv('../report/bagOfWords_lr.csv',index=False, quoting=3)"
   ]
  },
  {
   "cell_type": "code",
   "execution_count": 12,
   "metadata": {
    "collapsed": false
   },
   "outputs": [
    {
     "data": {
      "text/plain": [
       "24"
      ]
     },
     "execution_count": 12,
     "metadata": {},
     "output_type": "execute_result"
    }
   ],
   "source": [
    "sum(result['sentiment']==0)"
   ]
  },
  {
   "cell_type": "code",
   "execution_count": null,
   "metadata": {
    "collapsed": true
   },
   "outputs": [],
   "source": []
  }
 ],
 "metadata": {
  "kernelspec": {
   "display_name": "Python 3",
   "language": "python",
   "name": "python3"
  },
  "language_info": {
   "codemirror_mode": {
    "name": "ipython",
    "version": 3
   },
   "file_extension": ".py",
   "mimetype": "text/x-python",
   "name": "python",
   "nbconvert_exporter": "python",
   "pygments_lexer": "ipython3",
   "version": "3.6.0"
  }
 },
 "nbformat": 4,
 "nbformat_minor": 2
}

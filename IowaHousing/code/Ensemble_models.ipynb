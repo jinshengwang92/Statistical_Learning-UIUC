{
 "cells": [
  {
   "cell_type": "markdown",
   "metadata": {},
   "source": [
    "<DIV ALIGN=CENTER>\n",
    "# Tree Ensemble Models\n",
    "## Xichen Huang and Elaine (Yinyin) Chen\n",
    "February 10, 2017\n",
    "\n",
    "This document covers how to implement three tree ensemble models, randomforest, gbm and XGBoost,  R to predict if blue color is present in a flag or not.\n",
    "</DIV>  \n",
    "---"
   ]
  },
  {
   "cell_type": "code",
   "execution_count": 1,
   "metadata": {
    "collapsed": false
   },
   "outputs": [
    {
     "name": "stderr",
     "output_type": "stream",
     "text": [
      "randomForest 4.6-12\n",
      "Type rfNews() to see new features/changes/bug fixes.\n",
      "Loading required package: survival\n",
      "Loading required package: lattice\n",
      "Loading required package: splines\n",
      "Loading required package: parallel\n",
      "Loaded gbm 2.1.1\n"
     ]
    }
   ],
   "source": [
    "# To use these models, you need to load the corresponding packages:\n",
    "library(randomForest)  # random forest\n",
    "library(gbm)  # gbm\n",
    "library(xgboost)"
   ]
  },
  {
   "cell_type": "code",
   "execution_count": 2,
   "metadata": {
    "collapsed": true
   },
   "outputs": [],
   "source": [
    "# Let’s load the data.\n",
    "flag = read.csv(file = 'https://archive.ics.uci.edu/ml/machine-learning-databases/flags/flag.data',\n",
    "                header = FALSE)"
   ]
  },
  {
   "cell_type": "code",
   "execution_count": 3,
   "metadata": {
    "collapsed": false
   },
   "outputs": [
    {
     "data": {
      "text/html": [
       "<table>\n",
       "<thead><tr><th scope=col>V10</th><th scope=col>V11</th><th scope=col>V12</th><th scope=col>V13</th><th scope=col>V14</th><th scope=col>V15</th><th scope=col>V16</th><th scope=col>V17</th><th scope=col>V18</th><th scope=col>V19</th><th scope=col>V20</th><th scope=col>V21</th><th scope=col>V22</th><th scope=col>V23</th><th scope=col>V24</th><th scope=col>V25</th><th scope=col>V26</th><th scope=col>V27</th><th scope=col>V28</th></tr></thead>\n",
       "<tbody>\n",
       "\t<tr><td>5    </td><td>1    </td><td>1    </td><td>0    </td><td>1    </td><td>1    </td><td>1    </td><td>0    </td><td>green</td><td>0    </td><td>0    </td><td>0    </td><td>0    </td><td>1    </td><td>0    </td><td>0    </td><td>1    </td><td>0    </td><td>0    </td></tr>\n",
       "\t<tr><td>3    </td><td>1    </td><td>0    </td><td>0    </td><td>1    </td><td>0    </td><td>1    </td><td>0    </td><td>red  </td><td>0    </td><td>0    </td><td>0    </td><td>0    </td><td>1    </td><td>0    </td><td>0    </td><td>0    </td><td>1    </td><td>0    </td></tr>\n",
       "\t<tr><td>3    </td><td>1    </td><td>1    </td><td>0    </td><td>0    </td><td>1    </td><td>0    </td><td>0    </td><td>green</td><td>0    </td><td>0    </td><td>0    </td><td>0    </td><td>1    </td><td>1    </td><td>0    </td><td>0    </td><td>0    </td><td>0    </td></tr>\n",
       "\t<tr><td>5    </td><td>1    </td><td>0    </td><td>1    </td><td>1    </td><td>1    </td><td>0    </td><td>1    </td><td>blue </td><td>0    </td><td>0    </td><td>0    </td><td>0    </td><td>0    </td><td>0    </td><td>1    </td><td>1    </td><td>1    </td><td>0    </td></tr>\n",
       "\t<tr><td>3    </td><td>1    </td><td>0    </td><td>1    </td><td>1    </td><td>0    </td><td>0    </td><td>0    </td><td>gold </td><td>0    </td><td>0    </td><td>0    </td><td>0    </td><td>0    </td><td>0    </td><td>0    </td><td>0    </td><td>0    </td><td>0    </td></tr>\n",
       "\t<tr><td>3    </td><td>1    </td><td>0    </td><td>0    </td><td>1    </td><td>0    </td><td>1    </td><td>0    </td><td>red  </td><td>0    </td><td>0    </td><td>0    </td><td>0    </td><td>1    </td><td>0    </td><td>0    </td><td>1    </td><td>0    </td><td>0    </td></tr>\n",
       "</tbody>\n",
       "</table>\n"
      ],
      "text/latex": [
       "\\begin{tabular}{r|lllllllllllllllllll}\n",
       " V10 & V11 & V12 & V13 & V14 & V15 & V16 & V17 & V18 & V19 & V20 & V21 & V22 & V23 & V24 & V25 & V26 & V27 & V28\\\\\n",
       "\\hline\n",
       "\t 5     & 1     & 1     & 0     & 1     & 1     & 1     & 0     & green & 0     & 0     & 0     & 0     & 1     & 0     & 0     & 1     & 0     & 0    \\\\\n",
       "\t 3     & 1     & 0     & 0     & 1     & 0     & 1     & 0     & red   & 0     & 0     & 0     & 0     & 1     & 0     & 0     & 0     & 1     & 0    \\\\\n",
       "\t 3     & 1     & 1     & 0     & 0     & 1     & 0     & 0     & green & 0     & 0     & 0     & 0     & 1     & 1     & 0     & 0     & 0     & 0    \\\\\n",
       "\t 5     & 1     & 0     & 1     & 1     & 1     & 0     & 1     & blue  & 0     & 0     & 0     & 0     & 0     & 0     & 1     & 1     & 1     & 0    \\\\\n",
       "\t 3     & 1     & 0     & 1     & 1     & 0     & 0     & 0     & gold  & 0     & 0     & 0     & 0     & 0     & 0     & 0     & 0     & 0     & 0    \\\\\n",
       "\t 3     & 1     & 0     & 0     & 1     & 0     & 1     & 0     & red   & 0     & 0     & 0     & 0     & 1     & 0     & 0     & 1     & 0     & 0    \\\\\n",
       "\\end{tabular}\n"
      ],
      "text/markdown": [
       "\n",
       "V10 | V11 | V12 | V13 | V14 | V15 | V16 | V17 | V18 | V19 | V20 | V21 | V22 | V23 | V24 | V25 | V26 | V27 | V28 | \n",
       "|---|---|---|---|---|---|\n",
       "| 5     | 1     | 1     | 0     | 1     | 1     | 1     | 0     | green | 0     | 0     | 0     | 0     | 1     | 0     | 0     | 1     | 0     | 0     | \n",
       "| 3     | 1     | 0     | 0     | 1     | 0     | 1     | 0     | red   | 0     | 0     | 0     | 0     | 1     | 0     | 0     | 0     | 1     | 0     | \n",
       "| 3     | 1     | 1     | 0     | 0     | 1     | 0     | 0     | green | 0     | 0     | 0     | 0     | 1     | 1     | 0     | 0     | 0     | 0     | \n",
       "| 5     | 1     | 0     | 1     | 1     | 1     | 0     | 1     | blue  | 0     | 0     | 0     | 0     | 0     | 0     | 1     | 1     | 1     | 0     | \n",
       "| 3     | 1     | 0     | 1     | 1     | 0     | 0     | 0     | gold  | 0     | 0     | 0     | 0     | 0     | 0     | 0     | 0     | 0     | 0     | \n",
       "| 3     | 1     | 0     | 0     | 1     | 0     | 1     | 0     | red   | 0     | 0     | 0     | 0     | 1     | 0     | 0     | 1     | 0     | 0     | \n",
       "\n",
       "\n"
      ],
      "text/plain": [
       "  V10 V11 V12 V13 V14 V15 V16 V17 V18   V19 V20 V21 V22 V23 V24 V25 V26 V27 V28\n",
       "1 5   1   1   0   1   1   1   0   green 0   0   0   0   1   0   0   1   0   0  \n",
       "2 3   1   0   0   1   0   1   0   red   0   0   0   0   1   0   0   0   1   0  \n",
       "3 3   1   1   0   0   1   0   0   green 0   0   0   0   1   1   0   0   0   0  \n",
       "4 5   1   0   1   1   1   0   1   blue  0   0   0   0   0   0   1   1   1   0  \n",
       "5 3   1   0   1   1   0   0   0   gold  0   0   0   0   0   0   0   0   0   0  \n",
       "6 3   1   0   0   1   0   1   0   red   0   0   0   0   1   0   0   1   0   0  "
      ]
     },
     "metadata": {},
     "output_type": "display_data"
    }
   ],
   "source": [
    "head(flag[,10:28])"
   ]
  },
  {
   "cell_type": "code",
   "execution_count": 4,
   "metadata": {
    "collapsed": false
   },
   "outputs": [
    {
     "data": {
      "text/html": [
       "<table>\n",
       "<thead><tr><th scope=col>V2</th><th scope=col>V3</th><th scope=col>V4</th><th scope=col>V5</th><th scope=col>V6</th><th scope=col>V7</th><th scope=col>V8</th><th scope=col>V9</th><th scope=col>V10</th><th scope=col>V11</th><th scope=col>⋯</th><th scope=col>V19</th><th scope=col>V20</th><th scope=col>V21</th><th scope=col>V22</th><th scope=col>V23</th><th scope=col>V24</th><th scope=col>V25</th><th scope=col>V26</th><th scope=col>V27</th><th scope=col>V28</th></tr></thead>\n",
       "<tbody>\n",
       "\t<tr><td>5   </td><td>1   </td><td> 648</td><td>16  </td><td>10  </td><td>2   </td><td>0   </td><td>3   </td><td>5   </td><td>1   </td><td>⋯   </td><td>0   </td><td>0   </td><td>0   </td><td>0   </td><td>1   </td><td>0   </td><td>0   </td><td>1   </td><td>0   </td><td>0   </td></tr>\n",
       "\t<tr><td>3   </td><td>1   </td><td>  29</td><td> 3  </td><td> 6  </td><td>6   </td><td>0   </td><td>0   </td><td>3   </td><td>1   </td><td>⋯   </td><td>0   </td><td>0   </td><td>0   </td><td>0   </td><td>1   </td><td>0   </td><td>0   </td><td>0   </td><td>1   </td><td>0   </td></tr>\n",
       "\t<tr><td>4   </td><td>1   </td><td>2388</td><td>20  </td><td> 8  </td><td>2   </td><td>2   </td><td>0   </td><td>3   </td><td>1   </td><td>⋯   </td><td>0   </td><td>0   </td><td>0   </td><td>0   </td><td>1   </td><td>1   </td><td>0   </td><td>0   </td><td>0   </td><td>0   </td></tr>\n",
       "\t<tr><td>6   </td><td>3   </td><td>   0</td><td> 0  </td><td> 1  </td><td>1   </td><td>0   </td><td>0   </td><td>5   </td><td>1   </td><td>⋯   </td><td>0   </td><td>0   </td><td>0   </td><td>0   </td><td>0   </td><td>0   </td><td>1   </td><td>1   </td><td>1   </td><td>0   </td></tr>\n",
       "\t<tr><td>3   </td><td>1   </td><td>   0</td><td> 0  </td><td> 6  </td><td>0   </td><td>3   </td><td>0   </td><td>3   </td><td>1   </td><td>⋯   </td><td>0   </td><td>0   </td><td>0   </td><td>0   </td><td>0   </td><td>0   </td><td>0   </td><td>0   </td><td>0   </td><td>0   </td></tr>\n",
       "\t<tr><td>4   </td><td>2   </td><td>1247</td><td> 7  </td><td>10  </td><td>5   </td><td>0   </td><td>2   </td><td>3   </td><td>1   </td><td>⋯   </td><td>0   </td><td>0   </td><td>0   </td><td>0   </td><td>1   </td><td>0   </td><td>0   </td><td>1   </td><td>0   </td><td>0   </td></tr>\n",
       "</tbody>\n",
       "</table>\n"
      ],
      "text/latex": [
       "\\begin{tabular}{r|llllllllllllllllllllllllll}\n",
       " V2 & V3 & V4 & V5 & V6 & V7 & V8 & V9 & V10 & V11 & ⋯ & V19 & V20 & V21 & V22 & V23 & V24 & V25 & V26 & V27 & V28\\\\\n",
       "\\hline\n",
       "\t 5    & 1    &  648 & 16   & 10   & 2    & 0    & 3    & 5    & 1    & ⋯    & 0    & 0    & 0    & 0    & 1    & 0    & 0    & 1    & 0    & 0   \\\\\n",
       "\t 3    & 1    &   29 &  3   &  6   & 6    & 0    & 0    & 3    & 1    & ⋯    & 0    & 0    & 0    & 0    & 1    & 0    & 0    & 0    & 1    & 0   \\\\\n",
       "\t 4    & 1    & 2388 & 20   &  8   & 2    & 2    & 0    & 3    & 1    & ⋯    & 0    & 0    & 0    & 0    & 1    & 1    & 0    & 0    & 0    & 0   \\\\\n",
       "\t 6    & 3    &    0 &  0   &  1   & 1    & 0    & 0    & 5    & 1    & ⋯    & 0    & 0    & 0    & 0    & 0    & 0    & 1    & 1    & 1    & 0   \\\\\n",
       "\t 3    & 1    &    0 &  0   &  6   & 0    & 3    & 0    & 3    & 1    & ⋯    & 0    & 0    & 0    & 0    & 0    & 0    & 0    & 0    & 0    & 0   \\\\\n",
       "\t 4    & 2    & 1247 &  7   & 10   & 5    & 0    & 2    & 3    & 1    & ⋯    & 0    & 0    & 0    & 0    & 1    & 0    & 0    & 1    & 0    & 0   \\\\\n",
       "\\end{tabular}\n"
      ],
      "text/markdown": [
       "\n",
       "V2 | V3 | V4 | V5 | V6 | V7 | V8 | V9 | V10 | V11 | ⋯ | V19 | V20 | V21 | V22 | V23 | V24 | V25 | V26 | V27 | V28 | \n",
       "|---|---|---|---|---|---|\n",
       "| 5    | 1    |  648 | 16   | 10   | 2    | 0    | 3    | 5    | 1    | ⋯    | 0    | 0    | 0    | 0    | 1    | 0    | 0    | 1    | 0    | 0    | \n",
       "| 3    | 1    |   29 |  3   |  6   | 6    | 0    | 0    | 3    | 1    | ⋯    | 0    | 0    | 0    | 0    | 1    | 0    | 0    | 0    | 1    | 0    | \n",
       "| 4    | 1    | 2388 | 20   |  8   | 2    | 2    | 0    | 3    | 1    | ⋯    | 0    | 0    | 0    | 0    | 1    | 1    | 0    | 0    | 0    | 0    | \n",
       "| 6    | 3    |    0 |  0   |  1   | 1    | 0    | 0    | 5    | 1    | ⋯    | 0    | 0    | 0    | 0    | 0    | 0    | 1    | 1    | 1    | 0    | \n",
       "| 3    | 1    |    0 |  0   |  6   | 0    | 3    | 0    | 3    | 1    | ⋯    | 0    | 0    | 0    | 0    | 0    | 0    | 0    | 0    | 0    | 0    | \n",
       "| 4    | 2    | 1247 |  7   | 10   | 5    | 0    | 2    | 3    | 1    | ⋯    | 0    | 0    | 0    | 0    | 1    | 0    | 0    | 1    | 0    | 0    | \n",
       "\n",
       "\n"
      ],
      "text/plain": [
       "  V2 V3 V4   V5 V6 V7 V8 V9 V10 V11 ⋯ V19 V20 V21 V22 V23 V24 V25 V26 V27 V28\n",
       "1 5  1   648 16 10 2  0  3  5   1   ⋯ 0   0   0   0   1   0   0   1   0   0  \n",
       "2 3  1    29  3  6 6  0  0  3   1   ⋯ 0   0   0   0   1   0   0   0   1   0  \n",
       "3 4  1  2388 20  8 2  2  0  3   1   ⋯ 0   0   0   0   1   1   0   0   0   0  \n",
       "4 6  3     0  0  1 1  0  0  5   1   ⋯ 0   0   0   0   0   0   1   1   1   0  \n",
       "5 3  1     0  0  6 0  3  0  3   1   ⋯ 0   0   0   0   0   0   0   0   0   0  \n",
       "6 4  2  1247  7 10 5  0  2  3   1   ⋯ 0   0   0   0   1   0   0   1   0   0  "
      ]
     },
     "metadata": {},
     "output_type": "display_data"
    }
   ],
   "source": [
    "#str(flag)  # check what the data looks like, e.g. dimension, variables set. \n",
    "flag = flag[, c(2:17, 19:28)]  # take the numerical values\n",
    "flag.y = as.numeric(flag$V13)  # Response Y: 0 if blue absent, 1 if blue present in the flag\n",
    "head(flag)\n",
    "flag.x = flag[, -12]  # Predictors X: the predictors should not contain v13\n",
    "#head(flag.x)"
   ]
  },
  {
   "cell_type": "code",
   "execution_count": 5,
   "metadata": {
    "collapsed": false
   },
   "outputs": [
    {
     "data": {
      "text/html": [
       "39"
      ],
      "text/latex": [
       "39"
      ],
      "text/markdown": [
       "39"
      ],
      "text/plain": [
       "[1] 39"
      ]
     },
     "metadata": {},
     "output_type": "display_data"
    }
   ],
   "source": [
    "#Then seperate data into trainning and test data set. We can record the row ID of the test data.\n",
    "testidx = which((1:length(flag[,1])) %% 5 == 1)  # about 1/5 are test data.\n",
    "length(testidx)"
   ]
  },
  {
   "cell_type": "markdown",
   "metadata": {},
   "source": [
    "# Random Forest"
   ]
  },
  {
   "cell_type": "code",
   "execution_count": 6,
   "metadata": {
    "collapsed": false
   },
   "outputs": [
    {
     "data": {
      "text/html": [
       "<ol class=list-inline>\n",
       "\t<li>'V2'</li>\n",
       "\t<li>'V3'</li>\n",
       "\t<li>'V6'</li>\n",
       "\t<li>'V7'</li>\n",
       "</ol>\n"
      ],
      "text/latex": [
       "\\begin{enumerate*}\n",
       "\\item 'V2'\n",
       "\\item 'V3'\n",
       "\\item 'V6'\n",
       "\\item 'V7'\n",
       "\\end{enumerate*}\n"
      ],
      "text/markdown": [
       "1. 'V2'\n",
       "2. 'V3'\n",
       "3. 'V6'\n",
       "4. 'V7'\n",
       "\n",
       "\n"
      ],
      "text/plain": [
       "[1] \"V2\" \"V3\" \"V6\" \"V7\""
      ]
     },
     "metadata": {},
     "output_type": "display_data"
    },
    {
     "data": {
      "text/html": [
       "<table>\n",
       "<thead><tr><th scope=col>V2</th><th scope=col>V3</th><th scope=col>V6</th><th scope=col>V7</th></tr></thead>\n",
       "<tbody>\n",
       "\t<tr><td>5 </td><td>1 </td><td>10</td><td>2 </td></tr>\n",
       "\t<tr><td>3 </td><td>1 </td><td>6 </td><td>6 </td></tr>\n",
       "\t<tr><td>4 </td><td>1 </td><td>8 </td><td>2 </td></tr>\n",
       "\t<tr><td>6 </td><td>3 </td><td>1 </td><td>1 </td></tr>\n",
       "\t<tr><td>3 </td><td>1 </td><td>6 </td><td>0 </td></tr>\n",
       "\t<tr><td>4 </td><td>2 </td><td>10</td><td>5 </td></tr>\n",
       "</tbody>\n",
       "</table>\n"
      ],
      "text/latex": [
       "\\begin{tabular}{r|llll}\n",
       " V2 & V3 & V6 & V7\\\\\n",
       "\\hline\n",
       "\t 5  & 1  & 10 & 2 \\\\\n",
       "\t 3  & 1  & 6  & 6 \\\\\n",
       "\t 4  & 1  & 8  & 2 \\\\\n",
       "\t 6  & 3  & 1  & 1 \\\\\n",
       "\t 3  & 1  & 6  & 0 \\\\\n",
       "\t 4  & 2  & 10 & 5 \\\\\n",
       "\\end{tabular}\n"
      ],
      "text/markdown": [
       "\n",
       "V2 | V3 | V6 | V7 | \n",
       "|---|---|---|---|---|---|\n",
       "| 5  | 1  | 10 | 2  | \n",
       "| 3  | 1  | 6  | 6  | \n",
       "| 4  | 1  | 8  | 2  | \n",
       "| 6  | 3  | 1  | 1  | \n",
       "| 3  | 1  | 6  | 0  | \n",
       "| 4  | 2  | 10 | 5  | \n",
       "\n",
       "\n"
      ],
      "text/plain": [
       "  V2 V3 V6 V7\n",
       "1 5  1  10 2 \n",
       "2 3  1  6  6 \n",
       "3 4  1  8  2 \n",
       "4 6  3  1  1 \n",
       "5 3  1  6  0 \n",
       "6 4  2  10 5 "
      ]
     },
     "metadata": {},
     "output_type": "display_data"
    },
    {
     "data": {
      "text/plain": [
       "    \n",
       "yhat  0  1\n",
       "   0 15 11\n",
       "   1  4  9"
      ]
     },
     "metadata": {},
     "output_type": "display_data"
    },
    {
     "data": {
      "text/html": [
       "0.384615384615385"
      ],
      "text/latex": [
       "0.384615384615385"
      ],
      "text/markdown": [
       "0.384615384615385"
      ],
      "text/plain": [
       "[1] 0.3846154"
      ]
     },
     "metadata": {},
     "output_type": "display_data"
    }
   ],
   "source": [
    "# Random Forest\n",
    "cat.names = paste('V', c(2, 3, 6, 7), sep = '')  # names of the categorical features\n",
    "cat.names\n",
    "flag.rf = flag\n",
    "# convert the categorical features to factors. Originally, they are integers.\n",
    "flag.rf[, cat.names] = lapply(flag[, cat.names], as.factor)\n",
    "head(flag.rf[, cat.names])\n",
    "rfModel = randomForest(as.factor(V13) ~ ., data = flag.rf[-testidx, ],\n",
    "                       importance = T, ntree = 500)\n",
    "yhat = predict(rfModel, flag.rf[testidx, ])\n",
    "table(yhat, flag.rf[testidx, 'V13'])\n",
    "mean(yhat != flag.rf[testidx, 'V13'])"
   ]
  },
  {
   "cell_type": "markdown",
   "metadata": {},
   "source": [
    "# GBM method"
   ]
  },
  {
   "cell_type": "code",
   "execution_count": 7,
   "metadata": {
    "collapsed": false
   },
   "outputs": [
    {
     "data": {
      "text/html": [
       "18"
      ],
      "text/latex": [
       "18"
      ],
      "text/markdown": [
       "18"
      ],
      "text/plain": [
       "[1] 18"
      ]
     },
     "metadata": {},
     "output_type": "display_data"
    },
    {
     "name": "stdout",
     "output_type": "stream",
     "text": [
      "Using 18 trees...\n"
     ]
    },
    {
     "data": {
      "text/plain": [
       "    \n",
       "yhat  0  1\n",
       "   0 17  4\n",
       "   1  2 16"
      ]
     },
     "metadata": {},
     "output_type": "display_data"
    },
    {
     "data": {
      "text/html": [
       "0.153846153846154"
      ],
      "text/latex": [
       "0.153846153846154"
      ],
      "text/markdown": [
       "0.153846153846154"
      ],
      "text/plain": [
       "[1] 0.1538462"
      ]
     },
     "metadata": {},
     "output_type": "display_data"
    },
    {
     "data": {
      "image/png": "[encoded data removed]",
      "text/plain": [
       "plot without title"
      ]
     },
     "metadata": {},
     "output_type": "display_data"
    }
   ],
   "source": [
    "#GBM\n",
    "gbm1 = gbm(V13 ~ ., data = flag.rf[-testidx, ], distribution = \"adaboost\",\n",
    "           n.trees = 1000, shrinkage = 1, bag.fraction = 1, cv.folds = 5)\n",
    "gbm.perf(gbm1, method = \"cv\")  # Estimates the optimal number of boosting iterations\n",
    "yhat = predict(gbm1, flag.rf[testidx, ], type = 'response')  # returns probability\n",
    "yhat = ifelse(yhat > 0.5, 1, 0)\n",
    "table(yhat, flag.rf[testidx, 'V13'])\n",
    "mean(yhat != flag.rf[testidx, 'V13'])"
   ]
  },
  {
   "cell_type": "code",
   "execution_count": 8,
   "metadata": {
    "collapsed": false,
    "scrolled": false
   },
   "outputs": [
    {
     "data": {
      "text/html": [
       "500"
      ],
      "text/latex": [
       "500"
      ],
      "text/markdown": [
       "500"
      ],
      "text/plain": [
       "[1] 500"
      ]
     },
     "metadata": {},
     "output_type": "display_data"
    },
    {
     "name": "stdout",
     "output_type": "stream",
     "text": [
      "Using 500 trees...\n"
     ]
    },
    {
     "data": {
      "text/plain": [
       "    \n",
       "yhat  0  1\n",
       "   0 17  4\n",
       "   1  2 16"
      ]
     },
     "metadata": {},
     "output_type": "display_data"
    },
    {
     "data": {
      "text/html": [
       "0.153846153846154"
      ],
      "text/latex": [
       "0.153846153846154"
      ],
      "text/markdown": [
       "0.153846153846154"
      ],
      "text/plain": [
       "[1] 0.1538462"
      ]
     },
     "metadata": {},
     "output_type": "display_data"
    },
    {
     "data": {
      "image/png": "[encoded data removed]",
      "text/plain": [
       "plot without title"
      ]
     },
     "metadata": {},
     "output_type": "display_data"
    }
   ],
   "source": [
    "\n",
    "# Try different parameters: smaller shrinkage (lower learning rate)\n",
    "gbm2 = gbm(V13 ~ ., data = flag.rf[-testidx, ], distribution = \"adaboost\",\n",
    "           n.trees = 1000, shrinkage = 0.05, bag.fraction = 1, cv.folds = 5)\n",
    "gbm.perf(gbm2, method = \"cv\")\n",
    "yhat = predict(gbm2, flag.rf[testidx, ], type = 'response')  # probability\n",
    "yhat = ifelse(yhat > 0.5, 1, 0)\n",
    "table(yhat, flag.rf[testidx, 'V13'])\n",
    "mean(yhat != flag.rf[testidx, 'V13'])"
   ]
  },
  {
   "cell_type": "markdown",
   "metadata": {},
   "source": [
    "# XGBoost method"
   ]
  },
  {
   "cell_type": "code",
   "execution_count": 9,
   "metadata": {
    "collapsed": true
   },
   "outputs": [],
   "source": [
    "#XGBoost\n",
    "#Now that we have four categorical predictors. XGBoost can only take numerical features. \n",
    "# If you feed a categorical feature to XGBoost, it will just code it as numerical with 1, 2, etc. \n",
    "# Let’s check this approach.\n",
    "\n",
    "flag.x = apply(flag.x, 2, as.numeric)  # convert all predictors to numeric\n",
    "# split to training and test sets\n",
    "train.x = flag.x[-testidx,]\n",
    "train.y = flag.y[-testidx]\n",
    "test.x = flag.x[testidx,]\n",
    "test.y = flag.y[testidx]"
   ]
  },
  {
   "cell_type": "code",
   "execution_count": 10,
   "metadata": {
    "collapsed": false
   },
   "outputs": [
    {
     "name": "stdout",
     "output_type": "stream",
     "text": [
      "[1]\ttrain-error:0.254715+0.024492\ttest-error:0.437850+0.072526 \n",
      "[2]\ttrain-error:0.175825+0.022619\ttest-error:0.366223+0.079062 \n",
      "[3]\ttrain-error:0.100068+0.022302\ttest-error:0.276290+0.095458 \n",
      "[4]\ttrain-error:0.096855+0.017440\ttest-error:0.230914+0.157125 \n",
      "[5]\ttrain-error:0.072648+0.026295\ttest-error:0.218414+0.086943 \n",
      "[6]\ttrain-error:0.053188+0.025777\ttest-error:0.218199+0.100117 \n",
      "[7]\ttrain-error:0.045110+0.018050\ttest-error:0.198844+0.097788 \n",
      "[8]\ttrain-error:0.035459+0.010909\ttest-error:0.212164+0.080866 \n",
      "[9]\ttrain-error:0.025794+0.006004\ttest-error:0.199046+0.087432 \n",
      "[10]\ttrain-error:0.022542+0.011794\ttest-error:0.211747+0.108428 \n",
      "[11]\ttrain-error:0.022555+0.010676\ttest-error:0.205497+0.103216 \n",
      "[12]\ttrain-error:0.016116+0.008822\ttest-error:0.205497+0.085578 \n",
      "[13]\ttrain-error:0.009678+0.007902\ttest-error:0.205712+0.090524 \n",
      "[14]\ttrain-error:0.011291+0.006452\ttest-error:0.179691+0.080262 \n",
      "[15]\ttrain-error:0.008065+0.005101\ttest-error:0.186142+0.098493 \n"
     ]
    }
   ],
   "source": [
    "#We use 5-fold CV to select best number of iterations:\n",
    "\n",
    "# ?xgb.cv  # open help file for the CV function.\n",
    "set.seed(100)\n",
    "cv.res = xgb.cv(data = train.x, label = train.y, \n",
    "                nfold = 5, nrounds = 15, max.depth = 2, eta = 1,\n",
    "                objective = \"binary:logistic\")\n",
    "# Set nrounds = 7"
   ]
  },
  {
   "cell_type": "code",
   "execution_count": 11,
   "metadata": {
    "collapsed": false
   },
   "outputs": [
    {
     "name": "stdout",
     "output_type": "stream",
     "text": [
      "[1]\ttrain-error:0.277419 \n",
      "[2]\ttrain-error:0.219355 \n",
      "[3]\ttrain-error:0.180645 \n",
      "[4]\ttrain-error:0.141935 \n",
      "[5]\ttrain-error:0.070968 \n",
      "[6]\ttrain-error:0.083871 \n",
      "[7]\ttrain-error:0.070968 \n"
     ]
    },
    {
     "data": {
      "text/html": [
       "0.179487179487179"
      ],
      "text/latex": [
       "0.179487179487179"
      ],
      "text/markdown": [
       "0.179487179487179"
      ],
      "text/plain": [
       "[1] 0.1794872"
      ]
     },
     "metadata": {},
     "output_type": "display_data"
    }
   ],
   "source": [
    "#Then fit the model. You can set parameters for “xgboost” function, and the help file is \n",
    "# here: http://xgboost.readthedocs.io/en/latest/parameter.html\n",
    "\n",
    "bst = xgboost(data = train.x, label = train.y, max.depth = 2, eta = 1, \n",
    "              nround = 7 , objective = \"binary:logistic\")\n",
    "yhat = predict(bst, test.x)  # predictions are probabilities.\n",
    "yhat = as.numeric(yhat > 0.5)  # hard thresholding: 0 or 1\n",
    "mean(yhat != test.y)\n"
   ]
  },
  {
   "cell_type": "code",
   "execution_count": 12,
   "metadata": {
    "collapsed": false
   },
   "outputs": [
    {
     "name": "stdout",
     "output_type": "stream",
     "text": [
      "'data.frame':\t194 obs. of  26 variables:\n",
      " $ V2 : int  5 3 4 6 3 4 1 1 2 2 ...\n",
      " $ V3 : int  1 1 1 3 1 2 4 4 3 3 ...\n",
      " $ V4 : int  648 29 2388 0 0 1247 0 0 2777 2777 ...\n",
      " $ V5 : int  16 3 20 0 0 7 0 0 28 28 ...\n",
      " $ V6 : int  10 6 8 1 6 10 1 1 2 2 ...\n",
      " $ V7 : int  2 6 2 1 0 5 1 1 0 0 ...\n",
      " $ V8 : int  0 0 2 0 3 0 0 0 0 0 ...\n",
      " $ V9 : int  3 0 0 0 0 2 1 1 3 3 ...\n",
      " $ V10: int  5 3 3 5 3 3 3 5 2 3 ...\n",
      " $ V11: int  1 1 1 1 1 1 0 1 0 0 ...\n",
      " $ V12: int  1 0 1 0 0 0 0 0 0 0 ...\n",
      " $ V13: int  0 0 0 1 1 0 1 1 1 1 ...\n",
      " $ V14: int  1 1 0 1 1 1 0 1 0 1 ...\n",
      " $ V15: int  1 0 1 1 0 0 1 1 1 1 ...\n",
      " $ V16: int  1 1 0 0 0 1 0 1 0 0 ...\n",
      " $ V17: int  0 0 0 1 0 0 1 0 0 0 ...\n",
      " $ V19: int  0 0 0 0 0 0 0 0 0 0 ...\n",
      " $ V20: int  0 0 0 0 0 0 0 0 0 0 ...\n",
      " $ V21: int  0 0 0 0 0 0 0 0 0 0 ...\n",
      " $ V22: int  0 0 0 0 0 0 0 0 0 0 ...\n",
      " $ V23: int  1 1 1 0 0 1 0 1 0 1 ...\n",
      " $ V24: int  0 0 1 0 0 0 0 0 0 0 ...\n",
      " $ V25: int  0 0 0 1 0 0 0 1 0 0 ...\n",
      " $ V26: int  1 0 0 1 0 1 0 0 0 0 ...\n",
      " $ V27: int  0 1 0 1 0 0 1 0 0 0 ...\n",
      " $ V28: int  0 0 0 0 0 0 0 0 0 0 ...\n"
     ]
    },
    {
     "data": {
      "text/html": [
       "'data.frame'"
      ],
      "text/latex": [
       "'data.frame'"
      ],
      "text/markdown": [
       "'data.frame'"
      ],
      "text/plain": [
       "[1] \"data.frame\""
      ]
     },
     "metadata": {},
     "output_type": "display_data"
    }
   ],
   "source": [
    "str(flag)\n",
    "class(flag)"
   ]
  },
  {
   "cell_type": "code",
   "execution_count": 13,
   "metadata": {
    "collapsed": false
   },
   "outputs": [
    {
     "data": {
      "text/html": [
       "<table>\n",
       "<thead><tr><th scope=col>V2</th><th scope=col>V3</th><th scope=col>V6</th><th scope=col>V7</th></tr></thead>\n",
       "<tbody>\n",
       "\t<tr><td>5 </td><td>1 </td><td>10</td><td>2 </td></tr>\n",
       "\t<tr><td>3 </td><td>1 </td><td>6 </td><td>6 </td></tr>\n",
       "\t<tr><td>4 </td><td>1 </td><td>8 </td><td>2 </td></tr>\n",
       "\t<tr><td>6 </td><td>3 </td><td>1 </td><td>1 </td></tr>\n",
       "\t<tr><td>3 </td><td>1 </td><td>6 </td><td>0 </td></tr>\n",
       "\t<tr><td>4 </td><td>2 </td><td>10</td><td>5 </td></tr>\n",
       "</tbody>\n",
       "</table>\n"
      ],
      "text/latex": [
       "\\begin{tabular}{r|llll}\n",
       " V2 & V3 & V6 & V7\\\\\n",
       "\\hline\n",
       "\t 5  & 1  & 10 & 2 \\\\\n",
       "\t 3  & 1  & 6  & 6 \\\\\n",
       "\t 4  & 1  & 8  & 2 \\\\\n",
       "\t 6  & 3  & 1  & 1 \\\\\n",
       "\t 3  & 1  & 6  & 0 \\\\\n",
       "\t 4  & 2  & 10 & 5 \\\\\n",
       "\\end{tabular}\n"
      ],
      "text/markdown": [
       "\n",
       "V2 | V3 | V6 | V7 | \n",
       "|---|---|---|---|---|---|\n",
       "| 5  | 1  | 10 | 2  | \n",
       "| 3  | 1  | 6  | 6  | \n",
       "| 4  | 1  | 8  | 2  | \n",
       "| 6  | 3  | 1  | 1  | \n",
       "| 3  | 1  | 6  | 0  | \n",
       "| 4  | 2  | 10 | 5  | \n",
       "\n",
       "\n"
      ],
      "text/plain": [
       "  V2 V3 V6 V7\n",
       "1 5  1  10 2 \n",
       "2 3  1  6  6 \n",
       "3 4  1  8  2 \n",
       "4 6  3  1  1 \n",
       "5 3  1  6  0 \n",
       "6 4  2  10 5 "
      ]
     },
     "metadata": {},
     "output_type": "display_data"
    },
    {
     "data": {
      "text/html": [
       "<table>\n",
       "<thead><tr><th></th><th scope=col>V21</th><th scope=col>V22</th><th scope=col>V23</th><th scope=col>V24</th><th scope=col>V25</th><th scope=col>V26</th><th scope=col>V32</th><th scope=col>V33</th><th scope=col>V34</th><th scope=col>V4</th><th scope=col>⋯</th><th scope=col>V19</th><th scope=col>V20</th><th scope=col>V21</th><th scope=col>V22</th><th scope=col>V23</th><th scope=col>V24</th><th scope=col>V25</th><th scope=col>V26</th><th scope=col>V27</th><th scope=col>V28</th></tr></thead>\n",
       "<tbody>\n",
       "\t<tr><th scope=row>1</th><td>0   </td><td>0   </td><td>0   </td><td>0   </td><td>1   </td><td>0   </td><td>0   </td><td>0   </td><td>0   </td><td> 648</td><td>⋯   </td><td>0   </td><td>0   </td><td>0   </td><td>0   </td><td>1   </td><td>0   </td><td>0   </td><td>1   </td><td>0   </td><td>0   </td></tr>\n",
       "\t<tr><th scope=row>2</th><td>0   </td><td>0   </td><td>1   </td><td>0   </td><td>0   </td><td>0   </td><td>0   </td><td>0   </td><td>0   </td><td>  29</td><td>⋯   </td><td>0   </td><td>0   </td><td>0   </td><td>0   </td><td>1   </td><td>0   </td><td>0   </td><td>0   </td><td>1   </td><td>0   </td></tr>\n",
       "\t<tr><th scope=row>3</th><td>0   </td><td>0   </td><td>0   </td><td>1   </td><td>0   </td><td>0   </td><td>0   </td><td>0   </td><td>0   </td><td>2388</td><td>⋯   </td><td>0   </td><td>0   </td><td>0   </td><td>0   </td><td>1   </td><td>1   </td><td>0   </td><td>0   </td><td>0   </td><td>0   </td></tr>\n",
       "\t<tr><th scope=row>4</th><td>0   </td><td>0   </td><td>0   </td><td>0   </td><td>0   </td><td>1   </td><td>0   </td><td>1   </td><td>0   </td><td>   0</td><td>⋯   </td><td>0   </td><td>0   </td><td>0   </td><td>0   </td><td>0   </td><td>0   </td><td>1   </td><td>1   </td><td>1   </td><td>0   </td></tr>\n",
       "\t<tr><th scope=row>5</th><td>0   </td><td>0   </td><td>1   </td><td>0   </td><td>0   </td><td>0   </td><td>0   </td><td>0   </td><td>0   </td><td>   0</td><td>⋯   </td><td>0   </td><td>0   </td><td>0   </td><td>0   </td><td>0   </td><td>0   </td><td>0   </td><td>0   </td><td>0   </td><td>0   </td></tr>\n",
       "\t<tr><th scope=row>6</th><td>0   </td><td>0   </td><td>0   </td><td>1   </td><td>0   </td><td>0   </td><td>1   </td><td>0   </td><td>0   </td><td>1247</td><td>⋯   </td><td>0   </td><td>0   </td><td>0   </td><td>0   </td><td>1   </td><td>0   </td><td>0   </td><td>1   </td><td>0   </td><td>0   </td></tr>\n",
       "</tbody>\n",
       "</table>\n"
      ],
      "text/latex": [
       "\\begin{tabular}{r|llllllllllllllllllllllllllllllllllllllllllllll}\n",
       "  & V21 & V22 & V23 & V24 & V25 & V26 & V32 & V33 & V34 & V4 & ⋯ & V19 & V20 & V21 & V22 & V23 & V24 & V25 & V26 & V27 & V28\\\\\n",
       "\\hline\n",
       "\t1 & 0    & 0    & 0    & 0    & 1    & 0    & 0    & 0    & 0    &  648 & ⋯    & 0    & 0    & 0    & 0    & 1    & 0    & 0    & 1    & 0    & 0   \\\\\n",
       "\t2 & 0    & 0    & 1    & 0    & 0    & 0    & 0    & 0    & 0    &   29 & ⋯    & 0    & 0    & 0    & 0    & 1    & 0    & 0    & 0    & 1    & 0   \\\\\n",
       "\t3 & 0    & 0    & 0    & 1    & 0    & 0    & 0    & 0    & 0    & 2388 & ⋯    & 0    & 0    & 0    & 0    & 1    & 1    & 0    & 0    & 0    & 0   \\\\\n",
       "\t4 & 0    & 0    & 0    & 0    & 0    & 1    & 0    & 1    & 0    &    0 & ⋯    & 0    & 0    & 0    & 0    & 0    & 0    & 1    & 1    & 1    & 0   \\\\\n",
       "\t5 & 0    & 0    & 1    & 0    & 0    & 0    & 0    & 0    & 0    &    0 & ⋯    & 0    & 0    & 0    & 0    & 0    & 0    & 0    & 0    & 0    & 0   \\\\\n",
       "\t6 & 0    & 0    & 0    & 1    & 0    & 0    & 1    & 0    & 0    & 1247 & ⋯    & 0    & 0    & 0    & 0    & 1    & 0    & 0    & 1    & 0    & 0   \\\\\n",
       "\\end{tabular}\n"
      ],
      "text/markdown": [
       "\n",
       "| <!--/--> | V21 | V22 | V23 | V24 | V25 | V26 | V32 | V33 | V34 | V4 | ⋯ | V19 | V20 | V21 | V22 | V23 | V24 | V25 | V26 | V27 | V28 | \n",
       "|---|---|---|---|---|---|\n",
       "| 1 | 0    | 0    | 0    | 0    | 1    | 0    | 0    | 0    | 0    |  648 | ⋯    | 0    | 0    | 0    | 0    | 1    | 0    | 0    | 1    | 0    | 0    | \n",
       "| 2 | 0    | 0    | 1    | 0    | 0    | 0    | 0    | 0    | 0    |   29 | ⋯    | 0    | 0    | 0    | 0    | 1    | 0    | 0    | 0    | 1    | 0    | \n",
       "| 3 | 0    | 0    | 0    | 1    | 0    | 0    | 0    | 0    | 0    | 2388 | ⋯    | 0    | 0    | 0    | 0    | 1    | 1    | 0    | 0    | 0    | 0    | \n",
       "| 4 | 0    | 0    | 0    | 0    | 0    | 1    | 0    | 1    | 0    |    0 | ⋯    | 0    | 0    | 0    | 0    | 0    | 0    | 1    | 1    | 1    | 0    | \n",
       "| 5 | 0    | 0    | 1    | 0    | 0    | 0    | 0    | 0    | 0    |    0 | ⋯    | 0    | 0    | 0    | 0    | 0    | 0    | 0    | 0    | 0    | 0    | \n",
       "| 6 | 0    | 0    | 0    | 1    | 0    | 0    | 1    | 0    | 0    | 1247 | ⋯    | 0    | 0    | 0    | 0    | 1    | 0    | 0    | 1    | 0    | 0    | \n",
       "\n",
       "\n"
      ],
      "text/plain": [
       "  V21 V22 V23 V24 V25 V26 V32 V33 V34 V4   ⋯ V19 V20 V21 V22 V23 V24 V25 V26\n",
       "1 0   0   0   0   1   0   0   0   0    648 ⋯ 0   0   0   0   1   0   0   1  \n",
       "2 0   0   1   0   0   0   0   0   0     29 ⋯ 0   0   0   0   1   0   0   0  \n",
       "3 0   0   0   1   0   0   0   0   0   2388 ⋯ 0   0   0   0   1   1   0   0  \n",
       "4 0   0   0   0   0   1   0   1   0      0 ⋯ 0   0   0   0   0   0   1   1  \n",
       "5 0   0   1   0   0   0   0   0   0      0 ⋯ 0   0   0   0   0   0   0   0  \n",
       "6 0   0   0   1   0   0   1   0   0   1247 ⋯ 0   0   0   0   1   0   0   1  \n",
       "  V27 V28\n",
       "1 0   0  \n",
       "2 1   0  \n",
       "3 0   0  \n",
       "4 1   0  \n",
       "5 0   0  \n",
       "6 0   0  "
      ]
     },
     "metadata": {},
     "output_type": "display_data"
    },
    {
     "data": {
      "text/plain": [
       "NULL"
      ]
     },
     "metadata": {},
     "output_type": "display_data"
    },
    {
     "name": "stdout",
     "output_type": "stream",
     "text": [
      "[1]\ttrain-error:0.240303+0.016087\ttest-error:0.290000+0.069788 \n",
      "[2]\ttrain-error:0.220909+0.039940\ttest-error:0.322903+0.074336 \n",
      "[3]\ttrain-error:0.159552+0.040369\ttest-error:0.289812+0.051193 \n",
      "[4]\ttrain-error:0.106480+0.009749\ttest-error:0.206949+0.049964 \n",
      "[5]\ttrain-error:0.082312+0.014236\ttest-error:0.174261+0.043861 \n",
      "[6]\ttrain-error:0.080609+0.013199\ttest-error:0.186747+0.058239 \n",
      "[7]\ttrain-error:0.054815+0.016335\ttest-error:0.167191+0.078695 \n",
      "[8]\ttrain-error:0.049988+0.010636\ttest-error:0.179677+0.086012 \n",
      "[9]\ttrain-error:0.038685+0.010561\ttest-error:0.192581+0.106469 \n",
      "[10]\ttrain-error:0.032246+0.005001\ttest-error:0.167191+0.093222 \n",
      "[1]\ttrain-error:0.245161 \n",
      "[2]\ttrain-error:0.174194 \n",
      "[3]\ttrain-error:0.148387 \n",
      "[4]\ttrain-error:0.129032 \n",
      "[5]\ttrain-error:0.083871 \n",
      "[6]\ttrain-error:0.070968 \n",
      "[7]\ttrain-error:0.064516 \n"
     ]
    },
    {
     "data": {
      "text/html": [
       "0.153846153846154"
      ],
      "text/latex": [
       "0.153846153846154"
      ],
      "text/markdown": [
       "0.153846153846154"
      ],
      "text/plain": [
       "[1] 0.1538462"
      ]
     },
     "metadata": {},
     "output_type": "display_data"
    }
   ],
   "source": [
    "# The above model treats the categorical features as continuous. A better approach might be to \n",
    "# create dummy variables for the categorical variables, which enlarges pp and increases the computing time. \n",
    "# Les’s check what the prediction accuracy is by taking this approach.\n",
    "cat.names = paste('V', c(2, 3, 6, 7), sep = '')  # names of the categorical features, used to subset X\n",
    "flag.dum.x = data.frame(flag)  # convert to data frame before lapply the as.factor function\n",
    "flag.dum.x[, cat.names] = lapply(flag.dum.x[, cat.names], as.factor)\n",
    "head(flag.dum.x[, cat.names])\n",
    "# ?model.matrix\n",
    "# model.matrix creates a design (or model) matrix, e.g., by expanding factors to a set of dummary variables \n",
    "# (depending on the contrasts) and expanding interactions similarly.\n",
    "dum.x = model.matrix(V13 ~. -1, data = flag.dum.x)   # Here -1 means no intercept, while no -1 means with intercept\n",
    "head(dum.x)\n",
    "names(dum.x)\n",
    "train.dum.x = dum.x[-testidx, ]\n",
    "test.dum.x = dum.x[testidx, ]\n",
    "\n",
    "# train the model\n",
    "set.seed(100)\n",
    "cv.dum = xgb.cv(data =train.dum.x, label = train.y, nfold = 5, nrounds = 10,\n",
    "                max.depth = 2, eta = 1, objective = \"binary:logistic\")\n",
    "# set nround = 7\n",
    "bst.dum = xgboost(data = train.dum.x, label = train.y, max.depth = 2, \n",
    "                  eta = 1, nround = 7, objective = \"binary:logistic\")\n",
    "yhat = predict(bst.dum, test.dum.x)  # predictions are probabilities.\n",
    "yhat = as.numeric(yhat > 0.5)  # hard thresholding: 0 or 1\n",
    "mean(yhat != test.y)"
   ]
  },
  {
   "cell_type": "code",
   "execution_count": 14,
   "metadata": {
    "collapsed": false
   },
   "outputs": [
    {
     "data": {
      "text/plain": [
       "NULL"
      ]
     },
     "metadata": {},
     "output_type": "display_data"
    },
    {
     "data": {
      "text/html": [
       "<ol class=list-inline>\n",
       "\t<li>194</li>\n",
       "\t<li>46</li>\n",
       "</ol>\n"
      ],
      "text/latex": [
       "\\begin{enumerate*}\n",
       "\\item 194\n",
       "\\item 46\n",
       "\\end{enumerate*}\n"
      ],
      "text/markdown": [
       "1. 194\n",
       "2. 46\n",
       "\n",
       "\n"
      ],
      "text/plain": [
       "[1] 194  46"
      ]
     },
     "metadata": {},
     "output_type": "display_data"
    },
    {
     "data": {
      "text/html": [
       "<ol class=list-inline>\n",
       "\t<li>194</li>\n",
       "\t<li>26</li>\n",
       "</ol>\n"
      ],
      "text/latex": [
       "\\begin{enumerate*}\n",
       "\\item 194\n",
       "\\item 26\n",
       "\\end{enumerate*}\n"
      ],
      "text/markdown": [
       "1. 194\n",
       "2. 26\n",
       "\n",
       "\n"
      ],
      "text/plain": [
       "[1] 194  26"
      ]
     },
     "metadata": {},
     "output_type": "display_data"
    },
    {
     "data": {
      "text/html": [
       "<table>\n",
       "<thead><tr><th></th><th scope=col>V21</th><th scope=col>V22</th><th scope=col>V23</th><th scope=col>V24</th><th scope=col>V25</th><th scope=col>V26</th><th scope=col>V32</th><th scope=col>V33</th><th scope=col>V34</th><th scope=col>V4</th></tr></thead>\n",
       "<tbody>\n",
       "\t<tr><th scope=row>1</th><td>0   </td><td>0   </td><td>0   </td><td>0   </td><td>1   </td><td>0   </td><td>0   </td><td>0   </td><td>0   </td><td> 648</td></tr>\n",
       "\t<tr><th scope=row>2</th><td>0   </td><td>0   </td><td>1   </td><td>0   </td><td>0   </td><td>0   </td><td>0   </td><td>0   </td><td>0   </td><td>  29</td></tr>\n",
       "\t<tr><th scope=row>3</th><td>0   </td><td>0   </td><td>0   </td><td>1   </td><td>0   </td><td>0   </td><td>0   </td><td>0   </td><td>0   </td><td>2388</td></tr>\n",
       "\t<tr><th scope=row>4</th><td>0   </td><td>0   </td><td>0   </td><td>0   </td><td>0   </td><td>1   </td><td>0   </td><td>1   </td><td>0   </td><td>   0</td></tr>\n",
       "\t<tr><th scope=row>5</th><td>0   </td><td>0   </td><td>1   </td><td>0   </td><td>0   </td><td>0   </td><td>0   </td><td>0   </td><td>0   </td><td>   0</td></tr>\n",
       "\t<tr><th scope=row>6</th><td>0   </td><td>0   </td><td>0   </td><td>1   </td><td>0   </td><td>0   </td><td>1   </td><td>0   </td><td>0   </td><td>1247</td></tr>\n",
       "</tbody>\n",
       "</table>\n"
      ],
      "text/latex": [
       "\\begin{tabular}{r|llllllllll}\n",
       "  & V21 & V22 & V23 & V24 & V25 & V26 & V32 & V33 & V34 & V4\\\\\n",
       "\\hline\n",
       "\t1 & 0    & 0    & 0    & 0    & 1    & 0    & 0    & 0    & 0    &  648\\\\\n",
       "\t2 & 0    & 0    & 1    & 0    & 0    & 0    & 0    & 0    & 0    &   29\\\\\n",
       "\t3 & 0    & 0    & 0    & 1    & 0    & 0    & 0    & 0    & 0    & 2388\\\\\n",
       "\t4 & 0    & 0    & 0    & 0    & 0    & 1    & 0    & 1    & 0    &    0\\\\\n",
       "\t5 & 0    & 0    & 1    & 0    & 0    & 0    & 0    & 0    & 0    &    0\\\\\n",
       "\t6 & 0    & 0    & 0    & 1    & 0    & 0    & 1    & 0    & 0    & 1247\\\\\n",
       "\\end{tabular}\n"
      ],
      "text/markdown": [
       "\n",
       "| <!--/--> | V21 | V22 | V23 | V24 | V25 | V26 | V32 | V33 | V34 | V4 | \n",
       "|---|---|---|---|---|---|\n",
       "| 1 | 0    | 0    | 0    | 0    | 1    | 0    | 0    | 0    | 0    |  648 | \n",
       "| 2 | 0    | 0    | 1    | 0    | 0    | 0    | 0    | 0    | 0    |   29 | \n",
       "| 3 | 0    | 0    | 0    | 1    | 0    | 0    | 0    | 0    | 0    | 2388 | \n",
       "| 4 | 0    | 0    | 0    | 0    | 0    | 1    | 0    | 1    | 0    |    0 | \n",
       "| 5 | 0    | 0    | 1    | 0    | 0    | 0    | 0    | 0    | 0    |    0 | \n",
       "| 6 | 0    | 0    | 0    | 1    | 0    | 0    | 1    | 0    | 0    | 1247 | \n",
       "\n",
       "\n"
      ],
      "text/plain": [
       "  V21 V22 V23 V24 V25 V26 V32 V33 V34 V4  \n",
       "1 0   0   0   0   1   0   0   0   0    648\n",
       "2 0   0   1   0   0   0   0   0   0     29\n",
       "3 0   0   0   1   0   0   0   0   0   2388\n",
       "4 0   0   0   0   0   1   0   1   0      0\n",
       "5 0   0   1   0   0   0   0   0   0      0\n",
       "6 0   0   0   1   0   0   1   0   0   1247"
      ]
     },
     "metadata": {},
     "output_type": "display_data"
    },
    {
     "data": {
      "text/html": [
       "<table>\n",
       "<thead><tr><th></th><th scope=col>V5</th><th scope=col>V62</th><th scope=col>V63</th><th scope=col>V64</th><th scope=col>V65</th><th scope=col>V66</th><th scope=col>V67</th><th scope=col>V68</th><th scope=col>V69</th><th scope=col>V610</th></tr></thead>\n",
       "<tbody>\n",
       "\t<tr><th scope=row>1</th><td>16</td><td>0 </td><td>0 </td><td>0 </td><td>0 </td><td>0 </td><td>0 </td><td>0 </td><td>0 </td><td>1 </td></tr>\n",
       "\t<tr><th scope=row>2</th><td> 3</td><td>0 </td><td>0 </td><td>0 </td><td>0 </td><td>1 </td><td>0 </td><td>0 </td><td>0 </td><td>0 </td></tr>\n",
       "\t<tr><th scope=row>3</th><td>20</td><td>0 </td><td>0 </td><td>0 </td><td>0 </td><td>0 </td><td>0 </td><td>1 </td><td>0 </td><td>0 </td></tr>\n",
       "\t<tr><th scope=row>4</th><td> 0</td><td>0 </td><td>0 </td><td>0 </td><td>0 </td><td>0 </td><td>0 </td><td>0 </td><td>0 </td><td>0 </td></tr>\n",
       "\t<tr><th scope=row>5</th><td> 0</td><td>0 </td><td>0 </td><td>0 </td><td>0 </td><td>1 </td><td>0 </td><td>0 </td><td>0 </td><td>0 </td></tr>\n",
       "\t<tr><th scope=row>6</th><td> 7</td><td>0 </td><td>0 </td><td>0 </td><td>0 </td><td>0 </td><td>0 </td><td>0 </td><td>0 </td><td>1 </td></tr>\n",
       "</tbody>\n",
       "</table>\n"
      ],
      "text/latex": [
       "\\begin{tabular}{r|llllllllll}\n",
       "  & V5 & V62 & V63 & V64 & V65 & V66 & V67 & V68 & V69 & V610\\\\\n",
       "\\hline\n",
       "\t1 & 16 & 0  & 0  & 0  & 0  & 0  & 0  & 0  & 0  & 1 \\\\\n",
       "\t2 &  3 & 0  & 0  & 0  & 0  & 1  & 0  & 0  & 0  & 0 \\\\\n",
       "\t3 & 20 & 0  & 0  & 0  & 0  & 0  & 0  & 1  & 0  & 0 \\\\\n",
       "\t4 &  0 & 0  & 0  & 0  & 0  & 0  & 0  & 0  & 0  & 0 \\\\\n",
       "\t5 &  0 & 0  & 0  & 0  & 0  & 1  & 0  & 0  & 0  & 0 \\\\\n",
       "\t6 &  7 & 0  & 0  & 0  & 0  & 0  & 0  & 0  & 0  & 1 \\\\\n",
       "\\end{tabular}\n"
      ],
      "text/markdown": [
       "\n",
       "| <!--/--> | V5 | V62 | V63 | V64 | V65 | V66 | V67 | V68 | V69 | V610 | \n",
       "|---|---|---|---|---|---|\n",
       "| 1 | 16 | 0  | 0  | 0  | 0  | 0  | 0  | 0  | 0  | 1  | \n",
       "| 2 |  3 | 0  | 0  | 0  | 0  | 1  | 0  | 0  | 0  | 0  | \n",
       "| 3 | 20 | 0  | 0  | 0  | 0  | 0  | 0  | 1  | 0  | 0  | \n",
       "| 4 |  0 | 0  | 0  | 0  | 0  | 0  | 0  | 0  | 0  | 0  | \n",
       "| 5 |  0 | 0  | 0  | 0  | 0  | 1  | 0  | 0  | 0  | 0  | \n",
       "| 6 |  7 | 0  | 0  | 0  | 0  | 0  | 0  | 0  | 0  | 1  | \n",
       "\n",
       "\n"
      ],
      "text/plain": [
       "  V5 V62 V63 V64 V65 V66 V67 V68 V69 V610\n",
       "1 16 0   0   0   0   0   0   0   0   1   \n",
       "2  3 0   0   0   0   1   0   0   0   0   \n",
       "3 20 0   0   0   0   0   0   1   0   0   \n",
       "4  0 0   0   0   0   0   0   0   0   0   \n",
       "5  0 0   0   0   0   1   0   0   0   0   \n",
       "6  7 0   0   0   0   0   0   0   0   1   "
      ]
     },
     "metadata": {},
     "output_type": "display_data"
    },
    {
     "data": {
      "text/html": [
       "<table>\n",
       "<thead><tr><th></th><th scope=col>V71</th><th scope=col>V72</th><th scope=col>V73</th><th scope=col>V74</th><th scope=col>V75</th><th scope=col>V76</th><th scope=col>V77</th><th scope=col>V8</th><th scope=col>V9</th><th scope=col>V10</th></tr></thead>\n",
       "<tbody>\n",
       "\t<tr><th scope=row>1</th><td>0</td><td>1</td><td>0</td><td>0</td><td>0</td><td>0</td><td>0</td><td>0</td><td>3</td><td>5</td></tr>\n",
       "\t<tr><th scope=row>2</th><td>0</td><td>0</td><td>0</td><td>0</td><td>0</td><td>1</td><td>0</td><td>0</td><td>0</td><td>3</td></tr>\n",
       "\t<tr><th scope=row>3</th><td>0</td><td>1</td><td>0</td><td>0</td><td>0</td><td>0</td><td>0</td><td>2</td><td>0</td><td>3</td></tr>\n",
       "\t<tr><th scope=row>4</th><td>1</td><td>0</td><td>0</td><td>0</td><td>0</td><td>0</td><td>0</td><td>0</td><td>0</td><td>5</td></tr>\n",
       "\t<tr><th scope=row>5</th><td>0</td><td>0</td><td>0</td><td>0</td><td>0</td><td>0</td><td>0</td><td>3</td><td>0</td><td>3</td></tr>\n",
       "\t<tr><th scope=row>6</th><td>0</td><td>0</td><td>0</td><td>0</td><td>1</td><td>0</td><td>0</td><td>0</td><td>2</td><td>3</td></tr>\n",
       "</tbody>\n",
       "</table>\n"
      ],
      "text/latex": [
       "\\begin{tabular}{r|llllllllll}\n",
       "  & V71 & V72 & V73 & V74 & V75 & V76 & V77 & V8 & V9 & V10\\\\\n",
       "\\hline\n",
       "\t1 & 0 & 1 & 0 & 0 & 0 & 0 & 0 & 0 & 3 & 5\\\\\n",
       "\t2 & 0 & 0 & 0 & 0 & 0 & 1 & 0 & 0 & 0 & 3\\\\\n",
       "\t3 & 0 & 1 & 0 & 0 & 0 & 0 & 0 & 2 & 0 & 3\\\\\n",
       "\t4 & 1 & 0 & 0 & 0 & 0 & 0 & 0 & 0 & 0 & 5\\\\\n",
       "\t5 & 0 & 0 & 0 & 0 & 0 & 0 & 0 & 3 & 0 & 3\\\\\n",
       "\t6 & 0 & 0 & 0 & 0 & 1 & 0 & 0 & 0 & 2 & 3\\\\\n",
       "\\end{tabular}\n"
      ],
      "text/markdown": [
       "\n",
       "| <!--/--> | V71 | V72 | V73 | V74 | V75 | V76 | V77 | V8 | V9 | V10 | \n",
       "|---|---|---|---|---|---|\n",
       "| 1 | 0 | 1 | 0 | 0 | 0 | 0 | 0 | 0 | 3 | 5 | \n",
       "| 2 | 0 | 0 | 0 | 0 | 0 | 1 | 0 | 0 | 0 | 3 | \n",
       "| 3 | 0 | 1 | 0 | 0 | 0 | 0 | 0 | 2 | 0 | 3 | \n",
       "| 4 | 1 | 0 | 0 | 0 | 0 | 0 | 0 | 0 | 0 | 5 | \n",
       "| 5 | 0 | 0 | 0 | 0 | 0 | 0 | 0 | 3 | 0 | 3 | \n",
       "| 6 | 0 | 0 | 0 | 0 | 1 | 0 | 0 | 0 | 2 | 3 | \n",
       "\n",
       "\n"
      ],
      "text/plain": [
       "  V71 V72 V73 V74 V75 V76 V77 V8 V9 V10\n",
       "1 0   1   0   0   0   0   0   0  3  5  \n",
       "2 0   0   0   0   0   1   0   0  0  3  \n",
       "3 0   1   0   0   0   0   0   2  0  3  \n",
       "4 1   0   0   0   0   0   0   0  0  5  \n",
       "5 0   0   0   0   0   0   0   3  0  3  \n",
       "6 0   0   0   0   1   0   0   0  2  3  "
      ]
     },
     "metadata": {},
     "output_type": "display_data"
    },
    {
     "data": {
      "text/html": [
       "<table>\n",
       "<thead><tr><th></th><th scope=col>V11</th><th scope=col>V12</th><th scope=col>V14</th><th scope=col>V15</th><th scope=col>V16</th><th scope=col>V17</th><th scope=col>V19</th><th scope=col>V20</th><th scope=col>V21</th><th scope=col>V22</th></tr></thead>\n",
       "<tbody>\n",
       "\t<tr><th scope=row>1</th><td>1</td><td>1</td><td>1</td><td>1</td><td>1</td><td>0</td><td>0</td><td>0</td><td>0</td><td>0</td></tr>\n",
       "\t<tr><th scope=row>2</th><td>1</td><td>0</td><td>1</td><td>0</td><td>1</td><td>0</td><td>0</td><td>0</td><td>0</td><td>0</td></tr>\n",
       "\t<tr><th scope=row>3</th><td>1</td><td>1</td><td>0</td><td>1</td><td>0</td><td>0</td><td>0</td><td>0</td><td>0</td><td>0</td></tr>\n",
       "\t<tr><th scope=row>4</th><td>1</td><td>0</td><td>1</td><td>1</td><td>0</td><td>1</td><td>0</td><td>0</td><td>0</td><td>0</td></tr>\n",
       "\t<tr><th scope=row>5</th><td>1</td><td>0</td><td>1</td><td>0</td><td>0</td><td>0</td><td>0</td><td>0</td><td>0</td><td>0</td></tr>\n",
       "\t<tr><th scope=row>6</th><td>1</td><td>0</td><td>1</td><td>0</td><td>1</td><td>0</td><td>0</td><td>0</td><td>0</td><td>0</td></tr>\n",
       "</tbody>\n",
       "</table>\n"
      ],
      "text/latex": [
       "\\begin{tabular}{r|llllllllll}\n",
       "  & V11 & V12 & V14 & V15 & V16 & V17 & V19 & V20 & V21 & V22\\\\\n",
       "\\hline\n",
       "\t1 & 1 & 1 & 1 & 1 & 1 & 0 & 0 & 0 & 0 & 0\\\\\n",
       "\t2 & 1 & 0 & 1 & 0 & 1 & 0 & 0 & 0 & 0 & 0\\\\\n",
       "\t3 & 1 & 1 & 0 & 1 & 0 & 0 & 0 & 0 & 0 & 0\\\\\n",
       "\t4 & 1 & 0 & 1 & 1 & 0 & 1 & 0 & 0 & 0 & 0\\\\\n",
       "\t5 & 1 & 0 & 1 & 0 & 0 & 0 & 0 & 0 & 0 & 0\\\\\n",
       "\t6 & 1 & 0 & 1 & 0 & 1 & 0 & 0 & 0 & 0 & 0\\\\\n",
       "\\end{tabular}\n"
      ],
      "text/markdown": [
       "\n",
       "| <!--/--> | V11 | V12 | V14 | V15 | V16 | V17 | V19 | V20 | V21 | V22 | \n",
       "|---|---|---|---|---|---|\n",
       "| 1 | 1 | 1 | 1 | 1 | 1 | 0 | 0 | 0 | 0 | 0 | \n",
       "| 2 | 1 | 0 | 1 | 0 | 1 | 0 | 0 | 0 | 0 | 0 | \n",
       "| 3 | 1 | 1 | 0 | 1 | 0 | 0 | 0 | 0 | 0 | 0 | \n",
       "| 4 | 1 | 0 | 1 | 1 | 0 | 1 | 0 | 0 | 0 | 0 | \n",
       "| 5 | 1 | 0 | 1 | 0 | 0 | 0 | 0 | 0 | 0 | 0 | \n",
       "| 6 | 1 | 0 | 1 | 0 | 1 | 0 | 0 | 0 | 0 | 0 | \n",
       "\n",
       "\n"
      ],
      "text/plain": [
       "  V11 V12 V14 V15 V16 V17 V19 V20 V21 V22\n",
       "1 1   1   1   1   1   0   0   0   0   0  \n",
       "2 1   0   1   0   1   0   0   0   0   0  \n",
       "3 1   1   0   1   0   0   0   0   0   0  \n",
       "4 1   0   1   1   0   1   0   0   0   0  \n",
       "5 1   0   1   0   0   0   0   0   0   0  \n",
       "6 1   0   1   0   1   0   0   0   0   0  "
      ]
     },
     "metadata": {},
     "output_type": "display_data"
    },
    {
     "data": {
      "text/html": [
       "<table>\n",
       "<thead><tr><th></th><th scope=col>V23</th><th scope=col>V24</th><th scope=col>V25</th><th scope=col>V26</th><th scope=col>V27</th><th scope=col>V28</th></tr></thead>\n",
       "<tbody>\n",
       "\t<tr><th scope=row>1</th><td>1</td><td>0</td><td>0</td><td>1</td><td>0</td><td>0</td></tr>\n",
       "\t<tr><th scope=row>2</th><td>1</td><td>0</td><td>0</td><td>0</td><td>1</td><td>0</td></tr>\n",
       "\t<tr><th scope=row>3</th><td>1</td><td>1</td><td>0</td><td>0</td><td>0</td><td>0</td></tr>\n",
       "\t<tr><th scope=row>4</th><td>0</td><td>0</td><td>1</td><td>1</td><td>1</td><td>0</td></tr>\n",
       "\t<tr><th scope=row>5</th><td>0</td><td>0</td><td>0</td><td>0</td><td>0</td><td>0</td></tr>\n",
       "\t<tr><th scope=row>6</th><td>1</td><td>0</td><td>0</td><td>1</td><td>0</td><td>0</td></tr>\n",
       "</tbody>\n",
       "</table>\n"
      ],
      "text/latex": [
       "\\begin{tabular}{r|llllll}\n",
       "  & V23 & V24 & V25 & V26 & V27 & V28\\\\\n",
       "\\hline\n",
       "\t1 & 1 & 0 & 0 & 1 & 0 & 0\\\\\n",
       "\t2 & 1 & 0 & 0 & 0 & 1 & 0\\\\\n",
       "\t3 & 1 & 1 & 0 & 0 & 0 & 0\\\\\n",
       "\t4 & 0 & 0 & 1 & 1 & 1 & 0\\\\\n",
       "\t5 & 0 & 0 & 0 & 0 & 0 & 0\\\\\n",
       "\t6 & 1 & 0 & 0 & 1 & 0 & 0\\\\\n",
       "\\end{tabular}\n"
      ],
      "text/markdown": [
       "\n",
       "| <!--/--> | V23 | V24 | V25 | V26 | V27 | V28 | \n",
       "|---|---|---|---|---|---|\n",
       "| 1 | 1 | 0 | 0 | 1 | 0 | 0 | \n",
       "| 2 | 1 | 0 | 0 | 0 | 1 | 0 | \n",
       "| 3 | 1 | 1 | 0 | 0 | 0 | 0 | \n",
       "| 4 | 0 | 0 | 1 | 1 | 1 | 0 | \n",
       "| 5 | 0 | 0 | 0 | 0 | 0 | 0 | \n",
       "| 6 | 1 | 0 | 0 | 1 | 0 | 0 | \n",
       "\n",
       "\n"
      ],
      "text/plain": [
       "  V23 V24 V25 V26 V27 V28\n",
       "1 1   0   0   1   0   0  \n",
       "2 1   0   0   0   1   0  \n",
       "3 1   1   0   0   0   0  \n",
       "4 0   0   1   1   1   0  \n",
       "5 0   0   0   0   0   0  \n",
       "6 1   0   0   1   0   0  "
      ]
     },
     "metadata": {},
     "output_type": "display_data"
    }
   ],
   "source": [
    "names(dum.x)\n",
    "dim(dum.x)\n",
    "dim(flag.dum.x)\n",
    "head(dum.x[,1:10])\n",
    "head(dum.x[,11:20])\n",
    "head(dum.x[,21:30])\n",
    "head(dum.x[,31:40])\n",
    "head(dum.x[,41:46])"
   ]
  },
  {
   "cell_type": "markdown",
   "metadata": {},
   "source": [
    "The above models are built for classification. As you can see, we specify objective = ‘binary:logistic’, meaning we do binary classification and the error metric on the validation data is the binary classification error rate. For the regression problem, you can specify objective = ‘reg:linear’. Then the error metric is the root mean square error (rmse).\n",
    "\n"
   ]
  },
  {
   "cell_type": "code",
   "execution_count": null,
   "metadata": {
    "collapsed": true
   },
   "outputs": [],
   "source": []
  },
  {
   "cell_type": "code",
   "execution_count": null,
   "metadata": {
    "collapsed": true
   },
   "outputs": [],
   "source": []
  }
 ],
 "metadata": {
  "kernelspec": {
   "display_name": "R",
   "language": "R",
   "name": "ir"
  },
  "language_info": {
   "codemirror_mode": "r",
   "file_extension": ".r",
   "mimetype": "text/x-r-source",
   "name": "R",
   "pygments_lexer": "r",
   "version": "3.3.2"
  }
 },
 "nbformat": 4,
 "nbformat_minor": 2
}
